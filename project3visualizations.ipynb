{
 "cells": [
  {
   "cell_type": "code",
   "execution_count": 1,
   "id": "6d85a09d",
   "metadata": {},
   "outputs": [],
   "source": [
    "# Dependencies and Setup\n",
    "import dash\n",
    "from dash import dcc, html\n",
    "from dash.dependencies import Input, Output\n",
    "import matplotlib.pyplot as plt\n",
    "import pandas as pd\n",
    "import plotly.express as px\n",
    "import plotly.io as pio\n",
    "import numpy as np\n",
    "import ipywidgets as widgets\n",
    "from ipywidgets import interact\n",
    "import mpld3\n",
    "\n",
    "# jay's data\n",
    "newdf = pd.read_csv(\"data/clean_all_data.csv\")\n",
    "sexdf = newdf.drop(newdf[newdf['SEX CATEGORY'] == 'Overall'].index)\n",
    "racedf = newdf.drop(newdf[newdf['RACE CATEGORY'] == 'Overall'].index)\n",
    "agedf = newdf.drop(newdf[newdf['AGE DATA'] == 0].index)\n"
   ]
  },
  {
   "cell_type": "code",
   "execution_count": 2,
   "id": "3f0e9eec",
   "metadata": {},
   "outputs": [
    {
     "data": {
      "application/vnd.plotly.v1+json": {
       "config": {
        "plotlyServerURL": "https://plot.ly"
       },
       "data": [
        {
         "hovertemplate": "SEX CATEGORY=Male<br>WEEK DATA=%{x}<br>WEEKLY RATE=%{y}<extra></extra>",
         "legendgroup": "Male",
         "line": {
          "color": "#636efa",
          "dash": "solid"
         },
         "marker": {
          "symbol": "circle"
         },
         "mode": "lines",
         "name": "Male",
         "orientation": "v",
         "showlegend": true,
         "type": "scatter",
         "x": [
          "10/7/2023",
          "10/14/2023",
          "10/21/2023",
          "10/28/2023",
          "11/4/2023",
          "11/11/2023",
          "11/18/2023",
          "11/25/2023",
          "12/2/2023",
          "12/9/2023",
          "12/16/2023",
          "12/23/2023",
          "12/30/2023",
          "1/6/2024",
          "1/13/2024",
          "1/20/2024",
          "1/27/2024",
          "2/3/2024",
          "2/10/2024",
          "2/17/2024",
          "2/24/2024",
          "3/2/2024",
          "3/9/2024",
          "3/16/2024",
          "3/23/2024",
          "3/30/2024",
          "4/6/2024",
          "4/13/2024",
          "4/20/2024",
          "4/27/2024"
         ],
         "xaxis": "x",
         "y": [
          0.2,
          0.3,
          0.2,
          0.2,
          0.4,
          0.8,
          0.9,
          1.3,
          1.9,
          2.6,
          3.8,
          6.3,
          8.3,
          6.8,
          5.4,
          4,
          3.8,
          3.3,
          3.2,
          3.2,
          3.1,
          3.3,
          2.6,
          2.1,
          1.7,
          1.5,
          1,
          null,
          null,
          null
         ],
         "yaxis": "y"
        },
        {
         "hovertemplate": "SEX CATEGORY=Female<br>WEEK DATA=%{x}<br>WEEKLY RATE=%{y}<extra></extra>",
         "legendgroup": "Female",
         "line": {
          "color": "#EF553B",
          "dash": "solid"
         },
         "marker": {
          "symbol": "circle"
         },
         "mode": "lines",
         "name": "Female",
         "orientation": "v",
         "showlegend": true,
         "type": "scatter",
         "x": [
          "10/7/2023",
          "10/14/2023",
          "10/21/2023",
          "10/28/2023",
          "11/4/2023",
          "11/11/2023",
          "11/18/2023",
          "11/25/2023",
          "12/2/2023",
          "12/9/2023",
          "12/16/2023",
          "12/23/2023",
          "12/30/2023",
          "1/6/2024",
          "1/13/2024",
          "1/20/2024",
          "1/27/2024",
          "2/3/2024",
          "2/10/2024",
          "2/17/2024",
          "2/24/2024",
          "3/2/2024",
          "3/9/2024",
          "3/16/2024",
          "3/23/2024",
          "3/30/2024",
          "4/6/2024",
          "4/13/2024",
          "4/20/2024",
          "4/27/2024"
         ],
         "xaxis": "x",
         "y": [
          0.2,
          0.2,
          0.3,
          0.3,
          0.5,
          0.7,
          1,
          1.4,
          2.3,
          3.1,
          4.4,
          6.9,
          9.4,
          6.9,
          5.4,
          4.3,
          4.2,
          3.6,
          3.8,
          3.6,
          3.6,
          3.5,
          2.8,
          2.3,
          2,
          1.7,
          1.5,
          null,
          null,
          null
         ],
         "yaxis": "y"
        }
       ],
       "layout": {
        "legend": {
         "title": {
          "text": "SEX CATEGORY"
         },
         "tracegroupgap": 0
        },
        "template": {
         "data": {
          "bar": [
           {
            "error_x": {
             "color": "#2a3f5f"
            },
            "error_y": {
             "color": "#2a3f5f"
            },
            "marker": {
             "line": {
              "color": "#E5ECF6",
              "width": 0.5
             },
             "pattern": {
              "fillmode": "overlay",
              "size": 10,
              "solidity": 0.2
             }
            },
            "type": "bar"
           }
          ],
          "barpolar": [
           {
            "marker": {
             "line": {
              "color": "#E5ECF6",
              "width": 0.5
             },
             "pattern": {
              "fillmode": "overlay",
              "size": 10,
              "solidity": 0.2
             }
            },
            "type": "barpolar"
           }
          ],
          "carpet": [
           {
            "aaxis": {
             "endlinecolor": "#2a3f5f",
             "gridcolor": "white",
             "linecolor": "white",
             "minorgridcolor": "white",
             "startlinecolor": "#2a3f5f"
            },
            "baxis": {
             "endlinecolor": "#2a3f5f",
             "gridcolor": "white",
             "linecolor": "white",
             "minorgridcolor": "white",
             "startlinecolor": "#2a3f5f"
            },
            "type": "carpet"
           }
          ],
          "choropleth": [
           {
            "colorbar": {
             "outlinewidth": 0,
             "ticks": ""
            },
            "type": "choropleth"
           }
          ],
          "contour": [
           {
            "colorbar": {
             "outlinewidth": 0,
             "ticks": ""
            },
            "colorscale": [
             [
              0,
              "#0d0887"
             ],
             [
              0.1111111111111111,
              "#46039f"
             ],
             [
              0.2222222222222222,
              "#7201a8"
             ],
             [
              0.3333333333333333,
              "#9c179e"
             ],
             [
              0.4444444444444444,
              "#bd3786"
             ],
             [
              0.5555555555555556,
              "#d8576b"
             ],
             [
              0.6666666666666666,
              "#ed7953"
             ],
             [
              0.7777777777777778,
              "#fb9f3a"
             ],
             [
              0.8888888888888888,
              "#fdca26"
             ],
             [
              1,
              "#f0f921"
             ]
            ],
            "type": "contour"
           }
          ],
          "contourcarpet": [
           {
            "colorbar": {
             "outlinewidth": 0,
             "ticks": ""
            },
            "type": "contourcarpet"
           }
          ],
          "heatmap": [
           {
            "colorbar": {
             "outlinewidth": 0,
             "ticks": ""
            },
            "colorscale": [
             [
              0,
              "#0d0887"
             ],
             [
              0.1111111111111111,
              "#46039f"
             ],
             [
              0.2222222222222222,
              "#7201a8"
             ],
             [
              0.3333333333333333,
              "#9c179e"
             ],
             [
              0.4444444444444444,
              "#bd3786"
             ],
             [
              0.5555555555555556,
              "#d8576b"
             ],
             [
              0.6666666666666666,
              "#ed7953"
             ],
             [
              0.7777777777777778,
              "#fb9f3a"
             ],
             [
              0.8888888888888888,
              "#fdca26"
             ],
             [
              1,
              "#f0f921"
             ]
            ],
            "type": "heatmap"
           }
          ],
          "heatmapgl": [
           {
            "colorbar": {
             "outlinewidth": 0,
             "ticks": ""
            },
            "colorscale": [
             [
              0,
              "#0d0887"
             ],
             [
              0.1111111111111111,
              "#46039f"
             ],
             [
              0.2222222222222222,
              "#7201a8"
             ],
             [
              0.3333333333333333,
              "#9c179e"
             ],
             [
              0.4444444444444444,
              "#bd3786"
             ],
             [
              0.5555555555555556,
              "#d8576b"
             ],
             [
              0.6666666666666666,
              "#ed7953"
             ],
             [
              0.7777777777777778,
              "#fb9f3a"
             ],
             [
              0.8888888888888888,
              "#fdca26"
             ],
             [
              1,
              "#f0f921"
             ]
            ],
            "type": "heatmapgl"
           }
          ],
          "histogram": [
           {
            "marker": {
             "pattern": {
              "fillmode": "overlay",
              "size": 10,
              "solidity": 0.2
             }
            },
            "type": "histogram"
           }
          ],
          "histogram2d": [
           {
            "colorbar": {
             "outlinewidth": 0,
             "ticks": ""
            },
            "colorscale": [
             [
              0,
              "#0d0887"
             ],
             [
              0.1111111111111111,
              "#46039f"
             ],
             [
              0.2222222222222222,
              "#7201a8"
             ],
             [
              0.3333333333333333,
              "#9c179e"
             ],
             [
              0.4444444444444444,
              "#bd3786"
             ],
             [
              0.5555555555555556,
              "#d8576b"
             ],
             [
              0.6666666666666666,
              "#ed7953"
             ],
             [
              0.7777777777777778,
              "#fb9f3a"
             ],
             [
              0.8888888888888888,
              "#fdca26"
             ],
             [
              1,
              "#f0f921"
             ]
            ],
            "type": "histogram2d"
           }
          ],
          "histogram2dcontour": [
           {
            "colorbar": {
             "outlinewidth": 0,
             "ticks": ""
            },
            "colorscale": [
             [
              0,
              "#0d0887"
             ],
             [
              0.1111111111111111,
              "#46039f"
             ],
             [
              0.2222222222222222,
              "#7201a8"
             ],
             [
              0.3333333333333333,
              "#9c179e"
             ],
             [
              0.4444444444444444,
              "#bd3786"
             ],
             [
              0.5555555555555556,
              "#d8576b"
             ],
             [
              0.6666666666666666,
              "#ed7953"
             ],
             [
              0.7777777777777778,
              "#fb9f3a"
             ],
             [
              0.8888888888888888,
              "#fdca26"
             ],
             [
              1,
              "#f0f921"
             ]
            ],
            "type": "histogram2dcontour"
           }
          ],
          "mesh3d": [
           {
            "colorbar": {
             "outlinewidth": 0,
             "ticks": ""
            },
            "type": "mesh3d"
           }
          ],
          "parcoords": [
           {
            "line": {
             "colorbar": {
              "outlinewidth": 0,
              "ticks": ""
             }
            },
            "type": "parcoords"
           }
          ],
          "pie": [
           {
            "automargin": true,
            "type": "pie"
           }
          ],
          "scatter": [
           {
            "fillpattern": {
             "fillmode": "overlay",
             "size": 10,
             "solidity": 0.2
            },
            "type": "scatter"
           }
          ],
          "scatter3d": [
           {
            "line": {
             "colorbar": {
              "outlinewidth": 0,
              "ticks": ""
             }
            },
            "marker": {
             "colorbar": {
              "outlinewidth": 0,
              "ticks": ""
             }
            },
            "type": "scatter3d"
           }
          ],
          "scattercarpet": [
           {
            "marker": {
             "colorbar": {
              "outlinewidth": 0,
              "ticks": ""
             }
            },
            "type": "scattercarpet"
           }
          ],
          "scattergeo": [
           {
            "marker": {
             "colorbar": {
              "outlinewidth": 0,
              "ticks": ""
             }
            },
            "type": "scattergeo"
           }
          ],
          "scattergl": [
           {
            "marker": {
             "colorbar": {
              "outlinewidth": 0,
              "ticks": ""
             }
            },
            "type": "scattergl"
           }
          ],
          "scattermapbox": [
           {
            "marker": {
             "colorbar": {
              "outlinewidth": 0,
              "ticks": ""
             }
            },
            "type": "scattermapbox"
           }
          ],
          "scatterpolar": [
           {
            "marker": {
             "colorbar": {
              "outlinewidth": 0,
              "ticks": ""
             }
            },
            "type": "scatterpolar"
           }
          ],
          "scatterpolargl": [
           {
            "marker": {
             "colorbar": {
              "outlinewidth": 0,
              "ticks": ""
             }
            },
            "type": "scatterpolargl"
           }
          ],
          "scatterternary": [
           {
            "marker": {
             "colorbar": {
              "outlinewidth": 0,
              "ticks": ""
             }
            },
            "type": "scatterternary"
           }
          ],
          "surface": [
           {
            "colorbar": {
             "outlinewidth": 0,
             "ticks": ""
            },
            "colorscale": [
             [
              0,
              "#0d0887"
             ],
             [
              0.1111111111111111,
              "#46039f"
             ],
             [
              0.2222222222222222,
              "#7201a8"
             ],
             [
              0.3333333333333333,
              "#9c179e"
             ],
             [
              0.4444444444444444,
              "#bd3786"
             ],
             [
              0.5555555555555556,
              "#d8576b"
             ],
             [
              0.6666666666666666,
              "#ed7953"
             ],
             [
              0.7777777777777778,
              "#fb9f3a"
             ],
             [
              0.8888888888888888,
              "#fdca26"
             ],
             [
              1,
              "#f0f921"
             ]
            ],
            "type": "surface"
           }
          ],
          "table": [
           {
            "cells": {
             "fill": {
              "color": "#EBF0F8"
             },
             "line": {
              "color": "white"
             }
            },
            "header": {
             "fill": {
              "color": "#C8D4E3"
             },
             "line": {
              "color": "white"
             }
            },
            "type": "table"
           }
          ]
         },
         "layout": {
          "annotationdefaults": {
           "arrowcolor": "#2a3f5f",
           "arrowhead": 0,
           "arrowwidth": 1
          },
          "autotypenumbers": "strict",
          "coloraxis": {
           "colorbar": {
            "outlinewidth": 0,
            "ticks": ""
           }
          },
          "colorscale": {
           "diverging": [
            [
             0,
             "#8e0152"
            ],
            [
             0.1,
             "#c51b7d"
            ],
            [
             0.2,
             "#de77ae"
            ],
            [
             0.3,
             "#f1b6da"
            ],
            [
             0.4,
             "#fde0ef"
            ],
            [
             0.5,
             "#f7f7f7"
            ],
            [
             0.6,
             "#e6f5d0"
            ],
            [
             0.7,
             "#b8e186"
            ],
            [
             0.8,
             "#7fbc41"
            ],
            [
             0.9,
             "#4d9221"
            ],
            [
             1,
             "#276419"
            ]
           ],
           "sequential": [
            [
             0,
             "#0d0887"
            ],
            [
             0.1111111111111111,
             "#46039f"
            ],
            [
             0.2222222222222222,
             "#7201a8"
            ],
            [
             0.3333333333333333,
             "#9c179e"
            ],
            [
             0.4444444444444444,
             "#bd3786"
            ],
            [
             0.5555555555555556,
             "#d8576b"
            ],
            [
             0.6666666666666666,
             "#ed7953"
            ],
            [
             0.7777777777777778,
             "#fb9f3a"
            ],
            [
             0.8888888888888888,
             "#fdca26"
            ],
            [
             1,
             "#f0f921"
            ]
           ],
           "sequentialminus": [
            [
             0,
             "#0d0887"
            ],
            [
             0.1111111111111111,
             "#46039f"
            ],
            [
             0.2222222222222222,
             "#7201a8"
            ],
            [
             0.3333333333333333,
             "#9c179e"
            ],
            [
             0.4444444444444444,
             "#bd3786"
            ],
            [
             0.5555555555555556,
             "#d8576b"
            ],
            [
             0.6666666666666666,
             "#ed7953"
            ],
            [
             0.7777777777777778,
             "#fb9f3a"
            ],
            [
             0.8888888888888888,
             "#fdca26"
            ],
            [
             1,
             "#f0f921"
            ]
           ]
          },
          "colorway": [
           "#636efa",
           "#EF553B",
           "#00cc96",
           "#ab63fa",
           "#FFA15A",
           "#19d3f3",
           "#FF6692",
           "#B6E880",
           "#FF97FF",
           "#FECB52"
          ],
          "font": {
           "color": "#2a3f5f"
          },
          "geo": {
           "bgcolor": "white",
           "lakecolor": "white",
           "landcolor": "#E5ECF6",
           "showlakes": true,
           "showland": true,
           "subunitcolor": "white"
          },
          "hoverlabel": {
           "align": "left"
          },
          "hovermode": "closest",
          "mapbox": {
           "style": "light"
          },
          "paper_bgcolor": "white",
          "plot_bgcolor": "#E5ECF6",
          "polar": {
           "angularaxis": {
            "gridcolor": "white",
            "linecolor": "white",
            "ticks": ""
           },
           "bgcolor": "#E5ECF6",
           "radialaxis": {
            "gridcolor": "white",
            "linecolor": "white",
            "ticks": ""
           }
          },
          "scene": {
           "xaxis": {
            "backgroundcolor": "#E5ECF6",
            "gridcolor": "white",
            "gridwidth": 2,
            "linecolor": "white",
            "showbackground": true,
            "ticks": "",
            "zerolinecolor": "white"
           },
           "yaxis": {
            "backgroundcolor": "#E5ECF6",
            "gridcolor": "white",
            "gridwidth": 2,
            "linecolor": "white",
            "showbackground": true,
            "ticks": "",
            "zerolinecolor": "white"
           },
           "zaxis": {
            "backgroundcolor": "#E5ECF6",
            "gridcolor": "white",
            "gridwidth": 2,
            "linecolor": "white",
            "showbackground": true,
            "ticks": "",
            "zerolinecolor": "white"
           }
          },
          "shapedefaults": {
           "line": {
            "color": "#2a3f5f"
           }
          },
          "ternary": {
           "aaxis": {
            "gridcolor": "white",
            "linecolor": "white",
            "ticks": ""
           },
           "baxis": {
            "gridcolor": "white",
            "linecolor": "white",
            "ticks": ""
           },
           "bgcolor": "#E5ECF6",
           "caxis": {
            "gridcolor": "white",
            "linecolor": "white",
            "ticks": ""
           }
          },
          "title": {
           "x": 0.05
          },
          "xaxis": {
           "automargin": true,
           "gridcolor": "white",
           "linecolor": "white",
           "ticks": "",
           "title": {
            "standoff": 15
           },
           "zerolinecolor": "white",
           "zerolinewidth": 2
          },
          "yaxis": {
           "automargin": true,
           "gridcolor": "white",
           "linecolor": "white",
           "ticks": "",
           "title": {
            "standoff": 15
           },
           "zerolinecolor": "white",
           "zerolinewidth": 2
          }
         }
        },
        "title": {
         "text": "Weekly Rate by Sex Category"
        },
        "updatemenus": [
         {
          "buttons": [
           {
            "args": [
             {
              "visible": [
               true,
               false,
               false,
               true,
               true,
               false,
               false,
               true,
               true,
               false,
               true,
               false,
               true,
               false,
               false,
               true,
               true,
               false,
               false,
               true,
               false,
               true,
               false,
               true,
               true,
               false,
               true,
               false,
               true,
               false,
               false,
               true,
               false,
               true,
               true,
               false,
               false,
               true,
               true,
               false,
               false,
               true,
               true,
               false,
               false,
               true,
               true,
               false,
               true,
               false,
               false,
               true,
               true,
               false,
               true,
               false,
               true,
               false,
               false,
               true
              ]
             },
             {
              "title": "Weekly Rate by Male"
             }
            ],
            "label": "Male",
            "method": "update"
           },
           {
            "args": [
             {
              "visible": [
               false,
               true,
               true,
               false,
               false,
               true,
               true,
               false,
               false,
               true,
               false,
               true,
               false,
               true,
               true,
               false,
               false,
               true,
               true,
               false,
               true,
               false,
               true,
               false,
               false,
               true,
               false,
               true,
               false,
               true,
               true,
               false,
               true,
               false,
               false,
               true,
               true,
               false,
               false,
               true,
               true,
               false,
               false,
               true,
               true,
               false,
               false,
               true,
               false,
               true,
               true,
               false,
               false,
               true,
               false,
               true,
               false,
               true,
               true,
               false
              ]
             },
             {
              "title": "Weekly Rate by Female"
             }
            ],
            "label": "Female",
            "method": "update"
           },
           {
            "args": [
             {
              "visible": [
               true,
               true,
               true,
               true,
               true,
               true,
               true,
               true,
               true,
               true,
               true,
               true,
               true,
               true,
               true,
               true,
               true,
               true,
               true,
               true,
               true,
               true,
               true,
               true,
               true,
               true,
               true,
               true,
               true,
               true,
               true,
               true,
               true,
               true,
               true,
               true,
               true,
               true,
               true,
               true,
               true,
               true,
               true,
               true,
               true,
               true,
               true,
               true,
               true,
               true,
               true,
               true,
               true,
               true,
               true,
               true,
               true,
               true,
               true,
               true
              ]
             },
             {
              "title": "Weekly Rate by Sex Category"
             }
            ],
            "label": "Both Sexes",
            "method": "update"
           }
          ],
          "direction": "down",
          "showactive": true,
          "x": 0.1,
          "xanchor": "left",
          "y": 1.1,
          "yanchor": "top"
         }
        ],
        "xaxis": {
         "anchor": "y",
         "domain": [
          0,
          1
         ],
         "title": {
          "text": "WEEK DATA"
         }
        },
        "yaxis": {
         "anchor": "x",
         "domain": [
          0,
          1
         ],
         "title": {
          "text": "WEEKLY RATE"
         }
        }
       }
      }
     },
     "metadata": {},
     "output_type": "display_data"
    }
   ],
   "source": [
    "# Get unique race categories\n",
    "sex_categories = sexdf['SEX CATEGORY'].unique()\n",
    "\n",
    "# Create dropdown menu options\n",
    "buttons = []\n",
    "for sex in sex_categories:\n",
    "    visibility = [True if r == sex else False for r in sexdf['SEX CATEGORY']]\n",
    "    buttons.append(\n",
    "        dict(\n",
    "            label=sex,\n",
    "            method=\"update\",\n",
    "            args=[{\"visible\": visibility}, {\"title\": f\"Weekly Rate by {sex}\"}]\n",
    "        )\n",
    "    )\n",
    "\n",
    "# Add \"BOTH sexes\" option\n",
    "buttons.append(\n",
    "    dict(\n",
    "        label=\"Both Sexes\",\n",
    "        method=\"update\",\n",
    "        args=[{\"visible\": [True] * len(sexdf)}, {\"title\": \"Weekly Rate by Sex Category\"}]\n",
    "    )\n",
    ")\n",
    "\n",
    "# Create interactive plot using Plotly Express\n",
    "fig = px.line(sexdf, x='WEEK DATA', y='WEEKLY RATE', color='SEX CATEGORY', title='Weekly Rate by Sex Category')\n",
    "\n",
    "# Add dropdown menu for filtering by Sex category\n",
    "fig.update_layout(\n",
    "    updatemenus=[\n",
    "        dict(\n",
    "            buttons=buttons,\n",
    "            direction=\"down\",\n",
    "            showactive=True,\n",
    "            x=0.1,\n",
    "            xanchor=\"left\",\n",
    "            y=1.1,\n",
    "            yanchor=\"top\"\n",
    "        ),\n",
    "    ]\n",
    ")\n",
    "\n",
    "# Show the figure\n",
    "fig.show()\n",
    "fig.write_html(\"interactive_sex_plot.html\")"
   ]
  },
  {
   "cell_type": "code",
   "execution_count": 3,
   "id": "bbf7e3a3",
   "metadata": {},
   "outputs": [
    {
     "data": {
      "application/vnd.plotly.v1+json": {
       "config": {
        "plotlyServerURL": "https://plot.ly"
       },
       "data": [
        {
         "hovertemplate": "RACE CATEGORY=White<br>WEEK DATA=%{x}<br>WEEKLY RATE=%{y}<extra></extra>",
         "legendgroup": "White",
         "line": {
          "color": "#636efa",
          "dash": "solid"
         },
         "marker": {
          "symbol": "circle"
         },
         "mode": "lines",
         "name": "White",
         "orientation": "v",
         "showlegend": true,
         "type": "scatter",
         "x": [
          "10/7/2023",
          "10/14/2023",
          "10/21/2023",
          "10/28/2023",
          "11/4/2023",
          "11/11/2023",
          "11/18/2023",
          "11/25/2023",
          "12/2/2023",
          "12/9/2023",
          "12/16/2023",
          "12/23/2023",
          "12/30/2023",
          "1/6/2024",
          "1/13/2024",
          "1/20/2024",
          "1/27/2024",
          "2/3/2024",
          "2/10/2024",
          "2/17/2024",
          "2/24/2024",
          "3/2/2024",
          "3/9/2024",
          "3/16/2024",
          "3/23/2024",
          "3/30/2024",
          "4/6/2024",
          "4/13/2024",
          "4/20/2024",
          "4/27/2024"
         ],
         "xaxis": "x",
         "y": [
          0.2,
          0.2,
          0.2,
          0.2,
          0.3,
          0.5,
          0.6,
          1.1,
          1.5,
          2.2,
          3.2,
          5.2,
          7.7,
          6,
          4.8,
          3.6,
          3.4,
          3.2,
          3.2,
          3.4,
          3.2,
          3.2,
          2.7,
          2.2,
          1.7,
          1.4,
          1.1,
          null,
          null,
          null
         ],
         "yaxis": "y"
        },
        {
         "hovertemplate": "RACE CATEGORY=Black<br>WEEK DATA=%{x}<br>WEEKLY RATE=%{y}<extra></extra>",
         "legendgroup": "Black",
         "line": {
          "color": "#EF553B",
          "dash": "solid"
         },
         "marker": {
          "symbol": "circle"
         },
         "mode": "lines",
         "name": "Black",
         "orientation": "v",
         "showlegend": true,
         "type": "scatter",
         "x": [
          "10/7/2023",
          "10/14/2023",
          "10/21/2023",
          "10/28/2023",
          "11/4/2023",
          "11/11/2023",
          "11/18/2023",
          "11/25/2023",
          "12/2/2023",
          "12/9/2023",
          "12/16/2023",
          "12/23/2023",
          "12/30/2023",
          "1/6/2024",
          "1/13/2024",
          "1/20/2024",
          "1/27/2024",
          "2/3/2024",
          "2/10/2024",
          "2/17/2024",
          "2/24/2024",
          "3/2/2024",
          "3/9/2024",
          "3/16/2024",
          "3/23/2024",
          "3/30/2024",
          "4/6/2024",
          "4/13/2024",
          "4/20/2024",
          "4/27/2024"
         ],
         "xaxis": "x",
         "y": [
          0.3,
          0.2,
          0.4,
          0.4,
          0.7,
          1.4,
          1.8,
          2.3,
          3.7,
          5.6,
          8.1,
          13.1,
          16.4,
          11.4,
          8.9,
          7.3,
          7.3,
          5.4,
          5.4,
          5.4,
          5.3,
          5.3,
          3.8,
          2.9,
          3.1,
          2.3,
          1.3,
          null,
          null,
          null
         ],
         "yaxis": "y"
        },
        {
         "hovertemplate": "RACE CATEGORY=Hispanic/Latino<br>WEEK DATA=%{x}<br>WEEKLY RATE=%{y}<extra></extra>",
         "legendgroup": "Hispanic/Latino",
         "line": {
          "color": "#00cc96",
          "dash": "solid"
         },
         "marker": {
          "symbol": "circle"
         },
         "mode": "lines",
         "name": "Hispanic/Latino",
         "orientation": "v",
         "showlegend": true,
         "type": "scatter",
         "x": [
          "10/7/2023",
          "10/14/2023",
          "10/21/2023",
          "10/28/2023",
          "11/4/2023",
          "11/11/2023",
          "11/18/2023",
          "11/25/2023",
          "12/2/2023",
          "12/9/2023",
          "12/16/2023",
          "12/23/2023",
          "12/30/2023",
          "1/6/2024",
          "1/13/2024",
          "1/20/2024",
          "1/27/2024",
          "2/3/2024",
          "2/10/2024",
          "2/17/2024",
          "2/24/2024",
          "3/2/2024",
          "3/9/2024",
          "3/16/2024",
          "3/23/2024",
          "3/30/2024",
          "4/6/2024",
          "4/13/2024",
          "4/20/2024",
          "4/27/2024"
         ],
         "xaxis": "x",
         "y": [
          0.2,
          0.2,
          0.3,
          0.4,
          0.5,
          0.9,
          1.1,
          1.2,
          2.1,
          2.2,
          3.8,
          5,
          6.6,
          5.5,
          4.4,
          2.9,
          3.1,
          2.5,
          2.5,
          2,
          2.1,
          2.2,
          1.9,
          1.5,
          1.2,
          1,
          0.7,
          null,
          null,
          null
         ],
         "yaxis": "y"
        },
        {
         "hovertemplate": "RACE CATEGORY=Asian/Pacific Islander<br>WEEK DATA=%{x}<br>WEEKLY RATE=%{y}<extra></extra>",
         "legendgroup": "Asian/Pacific Islander",
         "line": {
          "color": "#ab63fa",
          "dash": "solid"
         },
         "marker": {
          "symbol": "circle"
         },
         "mode": "lines",
         "name": "Asian/Pacific Islander",
         "orientation": "v",
         "showlegend": true,
         "type": "scatter",
         "x": [
          "10/7/2023",
          "10/14/2023",
          "10/21/2023",
          "10/28/2023",
          "11/4/2023",
          "11/11/2023",
          "11/18/2023",
          "11/25/2023",
          "12/2/2023",
          "12/9/2023",
          "12/16/2023",
          "12/23/2023",
          "12/30/2023",
          "1/6/2024",
          "1/13/2024",
          "1/20/2024",
          "1/27/2024",
          "2/3/2024",
          "2/10/2024",
          "2/17/2024",
          "2/24/2024",
          "3/2/2024",
          "3/9/2024",
          "3/16/2024",
          "3/23/2024",
          "3/30/2024",
          "4/6/2024",
          "4/13/2024",
          "4/20/2024",
          "4/27/2024"
         ],
         "xaxis": "x",
         "y": [
          0.3,
          0.1,
          0.1,
          0.3,
          0.4,
          0.6,
          0.7,
          0.8,
          1.8,
          1.5,
          1.8,
          3.3,
          3.7,
          3.6,
          3,
          2,
          1.5,
          1.2,
          1.3,
          1.2,
          1.4,
          1.4,
          0.8,
          0.8,
          0.7,
          0.7,
          0.7,
          null,
          null,
          null
         ],
         "yaxis": "y"
        },
        {
         "hovertemplate": "RACE CATEGORY=American Indian/Alaska Native<br>WEEK DATA=%{x}<br>WEEKLY RATE=%{y}<extra></extra>",
         "legendgroup": "American Indian/Alaska Native",
         "line": {
          "color": "#FFA15A",
          "dash": "solid"
         },
         "marker": {
          "symbol": "circle"
         },
         "mode": "lines",
         "name": "American Indian/Alaska Native",
         "orientation": "v",
         "showlegend": true,
         "type": "scatter",
         "x": [
          "10/7/2023",
          "10/14/2023",
          "10/21/2023",
          "10/28/2023",
          "11/4/2023",
          "11/11/2023",
          "11/18/2023",
          "11/25/2023",
          "12/2/2023",
          "12/9/2023",
          "12/16/2023",
          "12/23/2023",
          "12/30/2023",
          "1/6/2024",
          "1/13/2024",
          "1/20/2024",
          "1/27/2024",
          "2/3/2024",
          "2/10/2024",
          "2/17/2024",
          "2/24/2024",
          "3/2/2024",
          "3/9/2024",
          "3/16/2024",
          "3/23/2024",
          "3/30/2024",
          "4/6/2024",
          "4/13/2024",
          "4/20/2024",
          "4/27/2024"
         ],
         "xaxis": "x",
         "y": [
          0,
          1.6,
          0,
          0,
          0.5,
          1.6,
          0.5,
          1.1,
          3.8,
          4.9,
          8.2,
          12.6,
          11,
          7.7,
          6,
          4.9,
          5.5,
          4.4,
          6,
          2.7,
          3.8,
          2.7,
          3.3,
          2.2,
          2.2,
          1.1,
          0.5,
          null,
          null,
          null
         ],
         "yaxis": "y"
        }
       ],
       "layout": {
        "legend": {
         "title": {
          "text": "RACE CATEGORY"
         },
         "tracegroupgap": 0
        },
        "template": {
         "data": {
          "bar": [
           {
            "error_x": {
             "color": "#2a3f5f"
            },
            "error_y": {
             "color": "#2a3f5f"
            },
            "marker": {
             "line": {
              "color": "#E5ECF6",
              "width": 0.5
             },
             "pattern": {
              "fillmode": "overlay",
              "size": 10,
              "solidity": 0.2
             }
            },
            "type": "bar"
           }
          ],
          "barpolar": [
           {
            "marker": {
             "line": {
              "color": "#E5ECF6",
              "width": 0.5
             },
             "pattern": {
              "fillmode": "overlay",
              "size": 10,
              "solidity": 0.2
             }
            },
            "type": "barpolar"
           }
          ],
          "carpet": [
           {
            "aaxis": {
             "endlinecolor": "#2a3f5f",
             "gridcolor": "white",
             "linecolor": "white",
             "minorgridcolor": "white",
             "startlinecolor": "#2a3f5f"
            },
            "baxis": {
             "endlinecolor": "#2a3f5f",
             "gridcolor": "white",
             "linecolor": "white",
             "minorgridcolor": "white",
             "startlinecolor": "#2a3f5f"
            },
            "type": "carpet"
           }
          ],
          "choropleth": [
           {
            "colorbar": {
             "outlinewidth": 0,
             "ticks": ""
            },
            "type": "choropleth"
           }
          ],
          "contour": [
           {
            "colorbar": {
             "outlinewidth": 0,
             "ticks": ""
            },
            "colorscale": [
             [
              0,
              "#0d0887"
             ],
             [
              0.1111111111111111,
              "#46039f"
             ],
             [
              0.2222222222222222,
              "#7201a8"
             ],
             [
              0.3333333333333333,
              "#9c179e"
             ],
             [
              0.4444444444444444,
              "#bd3786"
             ],
             [
              0.5555555555555556,
              "#d8576b"
             ],
             [
              0.6666666666666666,
              "#ed7953"
             ],
             [
              0.7777777777777778,
              "#fb9f3a"
             ],
             [
              0.8888888888888888,
              "#fdca26"
             ],
             [
              1,
              "#f0f921"
             ]
            ],
            "type": "contour"
           }
          ],
          "contourcarpet": [
           {
            "colorbar": {
             "outlinewidth": 0,
             "ticks": ""
            },
            "type": "contourcarpet"
           }
          ],
          "heatmap": [
           {
            "colorbar": {
             "outlinewidth": 0,
             "ticks": ""
            },
            "colorscale": [
             [
              0,
              "#0d0887"
             ],
             [
              0.1111111111111111,
              "#46039f"
             ],
             [
              0.2222222222222222,
              "#7201a8"
             ],
             [
              0.3333333333333333,
              "#9c179e"
             ],
             [
              0.4444444444444444,
              "#bd3786"
             ],
             [
              0.5555555555555556,
              "#d8576b"
             ],
             [
              0.6666666666666666,
              "#ed7953"
             ],
             [
              0.7777777777777778,
              "#fb9f3a"
             ],
             [
              0.8888888888888888,
              "#fdca26"
             ],
             [
              1,
              "#f0f921"
             ]
            ],
            "type": "heatmap"
           }
          ],
          "heatmapgl": [
           {
            "colorbar": {
             "outlinewidth": 0,
             "ticks": ""
            },
            "colorscale": [
             [
              0,
              "#0d0887"
             ],
             [
              0.1111111111111111,
              "#46039f"
             ],
             [
              0.2222222222222222,
              "#7201a8"
             ],
             [
              0.3333333333333333,
              "#9c179e"
             ],
             [
              0.4444444444444444,
              "#bd3786"
             ],
             [
              0.5555555555555556,
              "#d8576b"
             ],
             [
              0.6666666666666666,
              "#ed7953"
             ],
             [
              0.7777777777777778,
              "#fb9f3a"
             ],
             [
              0.8888888888888888,
              "#fdca26"
             ],
             [
              1,
              "#f0f921"
             ]
            ],
            "type": "heatmapgl"
           }
          ],
          "histogram": [
           {
            "marker": {
             "pattern": {
              "fillmode": "overlay",
              "size": 10,
              "solidity": 0.2
             }
            },
            "type": "histogram"
           }
          ],
          "histogram2d": [
           {
            "colorbar": {
             "outlinewidth": 0,
             "ticks": ""
            },
            "colorscale": [
             [
              0,
              "#0d0887"
             ],
             [
              0.1111111111111111,
              "#46039f"
             ],
             [
              0.2222222222222222,
              "#7201a8"
             ],
             [
              0.3333333333333333,
              "#9c179e"
             ],
             [
              0.4444444444444444,
              "#bd3786"
             ],
             [
              0.5555555555555556,
              "#d8576b"
             ],
             [
              0.6666666666666666,
              "#ed7953"
             ],
             [
              0.7777777777777778,
              "#fb9f3a"
             ],
             [
              0.8888888888888888,
              "#fdca26"
             ],
             [
              1,
              "#f0f921"
             ]
            ],
            "type": "histogram2d"
           }
          ],
          "histogram2dcontour": [
           {
            "colorbar": {
             "outlinewidth": 0,
             "ticks": ""
            },
            "colorscale": [
             [
              0,
              "#0d0887"
             ],
             [
              0.1111111111111111,
              "#46039f"
             ],
             [
              0.2222222222222222,
              "#7201a8"
             ],
             [
              0.3333333333333333,
              "#9c179e"
             ],
             [
              0.4444444444444444,
              "#bd3786"
             ],
             [
              0.5555555555555556,
              "#d8576b"
             ],
             [
              0.6666666666666666,
              "#ed7953"
             ],
             [
              0.7777777777777778,
              "#fb9f3a"
             ],
             [
              0.8888888888888888,
              "#fdca26"
             ],
             [
              1,
              "#f0f921"
             ]
            ],
            "type": "histogram2dcontour"
           }
          ],
          "mesh3d": [
           {
            "colorbar": {
             "outlinewidth": 0,
             "ticks": ""
            },
            "type": "mesh3d"
           }
          ],
          "parcoords": [
           {
            "line": {
             "colorbar": {
              "outlinewidth": 0,
              "ticks": ""
             }
            },
            "type": "parcoords"
           }
          ],
          "pie": [
           {
            "automargin": true,
            "type": "pie"
           }
          ],
          "scatter": [
           {
            "fillpattern": {
             "fillmode": "overlay",
             "size": 10,
             "solidity": 0.2
            },
            "type": "scatter"
           }
          ],
          "scatter3d": [
           {
            "line": {
             "colorbar": {
              "outlinewidth": 0,
              "ticks": ""
             }
            },
            "marker": {
             "colorbar": {
              "outlinewidth": 0,
              "ticks": ""
             }
            },
            "type": "scatter3d"
           }
          ],
          "scattercarpet": [
           {
            "marker": {
             "colorbar": {
              "outlinewidth": 0,
              "ticks": ""
             }
            },
            "type": "scattercarpet"
           }
          ],
          "scattergeo": [
           {
            "marker": {
             "colorbar": {
              "outlinewidth": 0,
              "ticks": ""
             }
            },
            "type": "scattergeo"
           }
          ],
          "scattergl": [
           {
            "marker": {
             "colorbar": {
              "outlinewidth": 0,
              "ticks": ""
             }
            },
            "type": "scattergl"
           }
          ],
          "scattermapbox": [
           {
            "marker": {
             "colorbar": {
              "outlinewidth": 0,
              "ticks": ""
             }
            },
            "type": "scattermapbox"
           }
          ],
          "scatterpolar": [
           {
            "marker": {
             "colorbar": {
              "outlinewidth": 0,
              "ticks": ""
             }
            },
            "type": "scatterpolar"
           }
          ],
          "scatterpolargl": [
           {
            "marker": {
             "colorbar": {
              "outlinewidth": 0,
              "ticks": ""
             }
            },
            "type": "scatterpolargl"
           }
          ],
          "scatterternary": [
           {
            "marker": {
             "colorbar": {
              "outlinewidth": 0,
              "ticks": ""
             }
            },
            "type": "scatterternary"
           }
          ],
          "surface": [
           {
            "colorbar": {
             "outlinewidth": 0,
             "ticks": ""
            },
            "colorscale": [
             [
              0,
              "#0d0887"
             ],
             [
              0.1111111111111111,
              "#46039f"
             ],
             [
              0.2222222222222222,
              "#7201a8"
             ],
             [
              0.3333333333333333,
              "#9c179e"
             ],
             [
              0.4444444444444444,
              "#bd3786"
             ],
             [
              0.5555555555555556,
              "#d8576b"
             ],
             [
              0.6666666666666666,
              "#ed7953"
             ],
             [
              0.7777777777777778,
              "#fb9f3a"
             ],
             [
              0.8888888888888888,
              "#fdca26"
             ],
             [
              1,
              "#f0f921"
             ]
            ],
            "type": "surface"
           }
          ],
          "table": [
           {
            "cells": {
             "fill": {
              "color": "#EBF0F8"
             },
             "line": {
              "color": "white"
             }
            },
            "header": {
             "fill": {
              "color": "#C8D4E3"
             },
             "line": {
              "color": "white"
             }
            },
            "type": "table"
           }
          ]
         },
         "layout": {
          "annotationdefaults": {
           "arrowcolor": "#2a3f5f",
           "arrowhead": 0,
           "arrowwidth": 1
          },
          "autotypenumbers": "strict",
          "coloraxis": {
           "colorbar": {
            "outlinewidth": 0,
            "ticks": ""
           }
          },
          "colorscale": {
           "diverging": [
            [
             0,
             "#8e0152"
            ],
            [
             0.1,
             "#c51b7d"
            ],
            [
             0.2,
             "#de77ae"
            ],
            [
             0.3,
             "#f1b6da"
            ],
            [
             0.4,
             "#fde0ef"
            ],
            [
             0.5,
             "#f7f7f7"
            ],
            [
             0.6,
             "#e6f5d0"
            ],
            [
             0.7,
             "#b8e186"
            ],
            [
             0.8,
             "#7fbc41"
            ],
            [
             0.9,
             "#4d9221"
            ],
            [
             1,
             "#276419"
            ]
           ],
           "sequential": [
            [
             0,
             "#0d0887"
            ],
            [
             0.1111111111111111,
             "#46039f"
            ],
            [
             0.2222222222222222,
             "#7201a8"
            ],
            [
             0.3333333333333333,
             "#9c179e"
            ],
            [
             0.4444444444444444,
             "#bd3786"
            ],
            [
             0.5555555555555556,
             "#d8576b"
            ],
            [
             0.6666666666666666,
             "#ed7953"
            ],
            [
             0.7777777777777778,
             "#fb9f3a"
            ],
            [
             0.8888888888888888,
             "#fdca26"
            ],
            [
             1,
             "#f0f921"
            ]
           ],
           "sequentialminus": [
            [
             0,
             "#0d0887"
            ],
            [
             0.1111111111111111,
             "#46039f"
            ],
            [
             0.2222222222222222,
             "#7201a8"
            ],
            [
             0.3333333333333333,
             "#9c179e"
            ],
            [
             0.4444444444444444,
             "#bd3786"
            ],
            [
             0.5555555555555556,
             "#d8576b"
            ],
            [
             0.6666666666666666,
             "#ed7953"
            ],
            [
             0.7777777777777778,
             "#fb9f3a"
            ],
            [
             0.8888888888888888,
             "#fdca26"
            ],
            [
             1,
             "#f0f921"
            ]
           ]
          },
          "colorway": [
           "#636efa",
           "#EF553B",
           "#00cc96",
           "#ab63fa",
           "#FFA15A",
           "#19d3f3",
           "#FF6692",
           "#B6E880",
           "#FF97FF",
           "#FECB52"
          ],
          "font": {
           "color": "#2a3f5f"
          },
          "geo": {
           "bgcolor": "white",
           "lakecolor": "white",
           "landcolor": "#E5ECF6",
           "showlakes": true,
           "showland": true,
           "subunitcolor": "white"
          },
          "hoverlabel": {
           "align": "left"
          },
          "hovermode": "closest",
          "mapbox": {
           "style": "light"
          },
          "paper_bgcolor": "white",
          "plot_bgcolor": "#E5ECF6",
          "polar": {
           "angularaxis": {
            "gridcolor": "white",
            "linecolor": "white",
            "ticks": ""
           },
           "bgcolor": "#E5ECF6",
           "radialaxis": {
            "gridcolor": "white",
            "linecolor": "white",
            "ticks": ""
           }
          },
          "scene": {
           "xaxis": {
            "backgroundcolor": "#E5ECF6",
            "gridcolor": "white",
            "gridwidth": 2,
            "linecolor": "white",
            "showbackground": true,
            "ticks": "",
            "zerolinecolor": "white"
           },
           "yaxis": {
            "backgroundcolor": "#E5ECF6",
            "gridcolor": "white",
            "gridwidth": 2,
            "linecolor": "white",
            "showbackground": true,
            "ticks": "",
            "zerolinecolor": "white"
           },
           "zaxis": {
            "backgroundcolor": "#E5ECF6",
            "gridcolor": "white",
            "gridwidth": 2,
            "linecolor": "white",
            "showbackground": true,
            "ticks": "",
            "zerolinecolor": "white"
           }
          },
          "shapedefaults": {
           "line": {
            "color": "#2a3f5f"
           }
          },
          "ternary": {
           "aaxis": {
            "gridcolor": "white",
            "linecolor": "white",
            "ticks": ""
           },
           "baxis": {
            "gridcolor": "white",
            "linecolor": "white",
            "ticks": ""
           },
           "bgcolor": "#E5ECF6",
           "caxis": {
            "gridcolor": "white",
            "linecolor": "white",
            "ticks": ""
           }
          },
          "title": {
           "x": 0.05
          },
          "xaxis": {
           "automargin": true,
           "gridcolor": "white",
           "linecolor": "white",
           "ticks": "",
           "title": {
            "standoff": 15
           },
           "zerolinecolor": "white",
           "zerolinewidth": 2
          },
          "yaxis": {
           "automargin": true,
           "gridcolor": "white",
           "linecolor": "white",
           "ticks": "",
           "title": {
            "standoff": 15
           },
           "zerolinecolor": "white",
           "zerolinewidth": 2
          }
         }
        },
        "title": {
         "text": "Weekly Rate by Race Category"
        },
        "updatemenus": [
         {
          "buttons": [
           {
            "args": [
             {
              "visible": [
               true,
               false,
               false,
               false,
               false,
               false,
               false,
               false,
               false,
               true,
               true,
               false,
               false,
               false,
               false,
               true,
               false,
               false,
               false,
               false,
               true,
               false,
               false,
               false,
               false,
               true,
               false,
               false,
               false,
               false,
               true,
               false,
               false,
               false,
               false,
               true,
               false,
               false,
               false,
               false,
               true,
               false,
               false,
               false,
               false,
               true,
               false,
               false,
               false,
               false,
               true,
               false,
               false,
               false,
               false,
               true,
               false,
               false,
               false,
               false,
               true,
               false,
               false,
               false,
               false,
               true,
               false,
               false,
               false,
               false,
               true,
               false,
               false,
               false,
               false,
               true,
               false,
               false,
               false,
               false,
               true,
               false,
               false,
               false,
               false,
               true,
               false,
               false,
               false,
               false,
               true,
               false,
               false,
               false,
               false,
               true,
               false,
               false,
               false,
               false,
               true,
               false,
               false,
               false,
               false,
               true,
               false,
               false,
               false,
               false,
               true,
               false,
               false,
               false,
               false,
               true,
               false,
               false,
               false,
               false,
               true,
               false,
               false,
               false,
               false,
               true,
               false,
               false,
               false,
               false,
               true,
               false,
               false,
               false,
               false,
               true,
               false,
               false,
               false,
               false,
               true,
               false,
               false,
               false,
               false,
               true,
               false,
               false,
               false,
               false
              ]
             },
             {
              "title": "Weekly Rate by White"
             }
            ],
            "label": "White",
            "method": "update"
           },
           {
            "args": [
             {
              "visible": [
               false,
               true,
               false,
               false,
               false,
               true,
               false,
               false,
               false,
               false,
               false,
               true,
               false,
               false,
               false,
               false,
               true,
               false,
               false,
               false,
               false,
               true,
               false,
               false,
               false,
               false,
               true,
               false,
               false,
               false,
               false,
               true,
               false,
               false,
               false,
               false,
               true,
               false,
               false,
               false,
               false,
               true,
               false,
               false,
               false,
               false,
               true,
               false,
               false,
               false,
               false,
               true,
               false,
               false,
               false,
               false,
               true,
               false,
               false,
               false,
               false,
               true,
               false,
               false,
               false,
               false,
               true,
               false,
               false,
               false,
               false,
               true,
               false,
               false,
               false,
               false,
               true,
               false,
               false,
               false,
               false,
               true,
               false,
               false,
               false,
               false,
               true,
               false,
               false,
               false,
               false,
               true,
               false,
               false,
               false,
               false,
               true,
               false,
               false,
               false,
               false,
               true,
               false,
               false,
               false,
               false,
               true,
               false,
               false,
               false,
               false,
               true,
               false,
               false,
               false,
               false,
               true,
               false,
               false,
               false,
               false,
               true,
               false,
               false,
               false,
               false,
               true,
               false,
               false,
               false,
               false,
               true,
               false,
               false,
               false,
               false,
               true,
               false,
               false,
               false,
               false,
               true,
               false,
               false,
               false,
               false,
               true,
               false,
               false,
               false
              ]
             },
             {
              "title": "Weekly Rate by Black"
             }
            ],
            "label": "Black",
            "method": "update"
           },
           {
            "args": [
             {
              "visible": [
               false,
               false,
               true,
               false,
               false,
               false,
               true,
               false,
               false,
               false,
               false,
               false,
               true,
               false,
               false,
               false,
               false,
               true,
               false,
               false,
               false,
               false,
               true,
               false,
               false,
               false,
               false,
               true,
               false,
               false,
               false,
               false,
               true,
               false,
               false,
               false,
               false,
               true,
               false,
               false,
               false,
               false,
               true,
               false,
               false,
               false,
               false,
               true,
               false,
               false,
               false,
               false,
               true,
               false,
               false,
               false,
               false,
               true,
               false,
               false,
               false,
               false,
               true,
               false,
               false,
               false,
               false,
               true,
               false,
               false,
               false,
               false,
               true,
               false,
               false,
               false,
               false,
               true,
               false,
               false,
               false,
               false,
               true,
               false,
               false,
               false,
               false,
               true,
               false,
               false,
               false,
               false,
               true,
               false,
               false,
               false,
               false,
               true,
               false,
               false,
               false,
               false,
               true,
               false,
               false,
               false,
               false,
               true,
               false,
               false,
               false,
               false,
               true,
               false,
               false,
               false,
               false,
               true,
               false,
               false,
               false,
               false,
               true,
               false,
               false,
               false,
               false,
               true,
               false,
               false,
               false,
               false,
               true,
               false,
               false,
               false,
               false,
               true,
               false,
               false,
               false,
               false,
               true,
               false,
               false,
               false,
               false,
               true,
               false,
               false
              ]
             },
             {
              "title": "Weekly Rate by Hispanic/Latino"
             }
            ],
            "label": "Hispanic/Latino",
            "method": "update"
           },
           {
            "args": [
             {
              "visible": [
               false,
               false,
               false,
               true,
               false,
               false,
               false,
               true,
               false,
               false,
               false,
               false,
               false,
               true,
               false,
               false,
               false,
               false,
               true,
               false,
               false,
               false,
               false,
               true,
               false,
               false,
               false,
               false,
               true,
               false,
               false,
               false,
               false,
               true,
               false,
               false,
               false,
               false,
               true,
               false,
               false,
               false,
               false,
               true,
               false,
               false,
               false,
               false,
               true,
               false,
               false,
               false,
               false,
               true,
               false,
               false,
               false,
               false,
               true,
               false,
               false,
               false,
               false,
               true,
               false,
               false,
               false,
               false,
               true,
               false,
               false,
               false,
               false,
               true,
               false,
               false,
               false,
               false,
               true,
               false,
               false,
               false,
               false,
               true,
               false,
               false,
               false,
               false,
               true,
               false,
               false,
               false,
               false,
               true,
               false,
               false,
               false,
               false,
               true,
               false,
               false,
               false,
               false,
               true,
               false,
               false,
               false,
               false,
               true,
               false,
               false,
               false,
               false,
               true,
               false,
               false,
               false,
               false,
               true,
               false,
               false,
               false,
               false,
               true,
               false,
               false,
               false,
               false,
               true,
               false,
               false,
               false,
               false,
               true,
               false,
               false,
               false,
               false,
               true,
               false,
               false,
               false,
               false,
               true,
               false,
               false,
               false,
               false,
               true,
               false
              ]
             },
             {
              "title": "Weekly Rate by Asian/Pacific Islander"
             }
            ],
            "label": "Asian/Pacific Islander",
            "method": "update"
           },
           {
            "args": [
             {
              "visible": [
               false,
               false,
               false,
               false,
               true,
               false,
               false,
               false,
               true,
               false,
               false,
               false,
               false,
               false,
               true,
               false,
               false,
               false,
               false,
               true,
               false,
               false,
               false,
               false,
               true,
               false,
               false,
               false,
               false,
               true,
               false,
               false,
               false,
               false,
               true,
               false,
               false,
               false,
               false,
               true,
               false,
               false,
               false,
               false,
               true,
               false,
               false,
               false,
               false,
               true,
               false,
               false,
               false,
               false,
               true,
               false,
               false,
               false,
               false,
               true,
               false,
               false,
               false,
               false,
               true,
               false,
               false,
               false,
               false,
               true,
               false,
               false,
               false,
               false,
               true,
               false,
               false,
               false,
               false,
               true,
               false,
               false,
               false,
               false,
               true,
               false,
               false,
               false,
               false,
               true,
               false,
               false,
               false,
               false,
               true,
               false,
               false,
               false,
               false,
               true,
               false,
               false,
               false,
               false,
               true,
               false,
               false,
               false,
               false,
               true,
               false,
               false,
               false,
               false,
               true,
               false,
               false,
               false,
               false,
               true,
               false,
               false,
               false,
               false,
               true,
               false,
               false,
               false,
               false,
               true,
               false,
               false,
               false,
               false,
               true,
               false,
               false,
               false,
               false,
               true,
               false,
               false,
               false,
               false,
               true,
               false,
               false,
               false,
               false,
               true
              ]
             },
             {
              "title": "Weekly Rate by American Indian/Alaska Native"
             }
            ],
            "label": "American Indian/Alaska Native",
            "method": "update"
           },
           {
            "args": [
             {
              "visible": [
               true,
               true,
               true,
               true,
               true,
               true,
               true,
               true,
               true,
               true,
               true,
               true,
               true,
               true,
               true,
               true,
               true,
               true,
               true,
               true,
               true,
               true,
               true,
               true,
               true,
               true,
               true,
               true,
               true,
               true,
               true,
               true,
               true,
               true,
               true,
               true,
               true,
               true,
               true,
               true,
               true,
               true,
               true,
               true,
               true,
               true,
               true,
               true,
               true,
               true,
               true,
               true,
               true,
               true,
               true,
               true,
               true,
               true,
               true,
               true,
               true,
               true,
               true,
               true,
               true,
               true,
               true,
               true,
               true,
               true,
               true,
               true,
               true,
               true,
               true,
               true,
               true,
               true,
               true,
               true,
               true,
               true,
               true,
               true,
               true,
               true,
               true,
               true,
               true,
               true,
               true,
               true,
               true,
               true,
               true,
               true,
               true,
               true,
               true,
               true,
               true,
               true,
               true,
               true,
               true,
               true,
               true,
               true,
               true,
               true,
               true,
               true,
               true,
               true,
               true,
               true,
               true,
               true,
               true,
               true,
               true,
               true,
               true,
               true,
               true,
               true,
               true,
               true,
               true,
               true,
               true,
               true,
               true,
               true,
               true,
               true,
               true,
               true,
               true,
               true,
               true,
               true,
               true,
               true,
               true,
               true,
               true,
               true,
               true,
               true
              ]
             },
             {
              "title": "Weekly Rate by Race Category"
             }
            ],
            "label": "All Races",
            "method": "update"
           }
          ],
          "direction": "down",
          "showactive": true,
          "x": 0.1,
          "xanchor": "left",
          "y": 1.1,
          "yanchor": "top"
         }
        ],
        "xaxis": {
         "anchor": "y",
         "domain": [
          0,
          1
         ],
         "title": {
          "text": "WEEK DATA"
         }
        },
        "yaxis": {
         "anchor": "x",
         "domain": [
          0,
          1
         ],
         "title": {
          "text": "WEEKLY RATE"
         }
        }
       }
      }
     },
     "metadata": {},
     "output_type": "display_data"
    }
   ],
   "source": [
    "# Get unique race categories\n",
    "race_categories = racedf['RACE CATEGORY'].unique()\n",
    "\n",
    "# Create dropdown menu options\n",
    "buttons = []\n",
    "for race in race_categories:\n",
    "    visibility = [True if r == race else False for r in racedf['RACE CATEGORY']]\n",
    "    buttons.append(\n",
    "        dict(\n",
    "            label=race,\n",
    "            method=\"update\",\n",
    "            args=[{\"visible\": visibility}, {\"title\": f\"Weekly Rate by {race}\"}]\n",
    "        )\n",
    "    )\n",
    "\n",
    "# Add \"All Races\" option\n",
    "buttons.append(\n",
    "    dict(\n",
    "        label=\"All Races\",\n",
    "        method=\"update\",\n",
    "        args=[{\"visible\": [True] * len(racedf)}, {\"title\": \"Weekly Rate by Race Category\"}]\n",
    "    )\n",
    ")\n",
    "\n",
    "# Create interactive plot using Plotly Express\n",
    "fig = px.line(racedf, x='WEEK DATA', y='WEEKLY RATE', color='RACE CATEGORY', title='Weekly Rate by Race Category')\n",
    "\n",
    "# Add dropdown menu for filtering by race category\n",
    "fig.update_layout(\n",
    "    updatemenus=[\n",
    "        dict(\n",
    "            buttons=buttons,\n",
    "            direction=\"down\",\n",
    "            showactive=True,\n",
    "            x=0.1,\n",
    "            xanchor=\"left\",\n",
    "            y=1.1,\n",
    "            yanchor=\"top\"\n",
    "        ),\n",
    "    ]\n",
    ")\n",
    "\n",
    "# Show the figure\n",
    "fig.show()\n",
    "fig.write_html(\"interactive_race_plot.html\")"
   ]
  },
  {
   "cell_type": "code",
   "execution_count": 4,
   "id": "063f581e",
   "metadata": {},
   "outputs": [
    {
     "data": {
      "text/html": [
       "\n",
       "        <iframe\n",
       "            width=\"100%\"\n",
       "            height=\"650\"\n",
       "            src=\"http://127.0.0.1:8050/\"\n",
       "            frameborder=\"0\"\n",
       "            allowfullscreen\n",
       "            \n",
       "        ></iframe>\n",
       "        "
      ],
      "text/plain": [
       "<IPython.lib.display.IFrame at 0x20a3885c210>"
      ]
     },
     "metadata": {},
     "output_type": "display_data"
    }
   ],
   "source": [
    "# Get unique Age categories\n",
    "age_categories = agedf['AGE CATEGORY'].unique()\n",
    "\n",
    "# Create dropdown menu options\n",
    "options = [{'label': age, 'value': age} for age in age_categories]\n",
    "\n",
    "# Initialize the Dash app\n",
    "app = dash.Dash(__name__)\n",
    "\n",
    "# Define the app layout\n",
    "app.layout = html.Div([\n",
    "    dcc.Graph(id='age-plot'),\n",
    "    dcc.Dropdown(\n",
    "        id='age-dropdown',\n",
    "        options=options,\n",
    "        value=age_categories[0]\n",
    "    )\n",
    "])\n",
    "\n",
    "# Define callback to update the plot based on dropdown selection\n",
    "@app.callback(\n",
    "    Output('age-plot', 'figure'),\n",
    "    [Input('age-dropdown', 'value')]\n",
    ")\n",
    "def update_plot(selected_age):\n",
    "    # Filter DataFrame based on selected age\n",
    "    filtered_df = agedf[agedf['AGE CATEGORY'] == selected_age]\n",
    "    \n",
    "    # Create plot with a different title\n",
    "    fig = px.line(filtered_df, x='WEEK DATA', y='WEEKLY RATE', color='AGE CATEGORY', title=f\"Rate Over Time for {selected_age}\")\n",
    "    \n",
    "    return fig\n",
    "\n",
    "# Run the app\n",
    "if __name__ == '__main__':\n",
    "    app.run_server(debug=True)\n",
    "\n",
    "    # After the server stops running, export the figure to HTML\n",
    "    fig = px.line(agedf, x='WEEK DATA', y='WEEKLY RATE', color='AGE CATEGORY', title=\"Weekly Rate by Age Category\")\n",
    "    pio.write_html(fig, 'interactive_age_plot.html')"
   ]
  },
  {
   "cell_type": "code",
   "execution_count": null,
   "id": "715d81b2",
   "metadata": {},
   "outputs": [],
   "source": []
  },
  {
   "cell_type": "code",
   "execution_count": 5,
   "id": "b12591bd",
   "metadata": {},
   "outputs": [],
   "source": [
    "#christian's data\n",
    "starter_df = pd.read_csv('data/State_Custom_Data.csv')\n",
    "starter_df['NUM INFLUENZA DEATHS'] = pd.to_numeric(starter_df['NUM INFLUENZA DEATHS'], errors = 'coerce')\n",
    "starter_df = starter_df.dropna(subset=['NUM INFLUENZA DEATHS'])\n",
    "starter_df['NUM INFLUENZA DEATHS'] = starter_df['NUM INFLUENZA DEATHS'].astype(int)\n",
    "influenzadeathsbystate = starter_df.groupby('SUB AREA')['NUM INFLUENZA DEATHS'].sum()\n",
    "influenzadeathsbystate = influenzadeathsbystate.tolist()\n",
    "starter_df_states = starter_df.drop_duplicates(subset=['SUB AREA'])\n",
    "states = starter_df_states['SUB AREA'].tolist()\n",
    "data_dict = {'States': states, 'Influenza Deaths': influenzadeathsbystate}\n",
    "influenza_deaths_df = pd.DataFrame(data_dict)"
   ]
  },
  {
   "cell_type": "code",
   "execution_count": 6,
   "id": "077e8135",
   "metadata": {},
   "outputs": [
    {
     "data": {
      "image/png": "[encoded data removed]",
      "text/plain": [
       "<Figure size 1200x500 with 1 Axes>"
      ]
     },
     "metadata": {},
     "output_type": "display_data"
    },
    {
     "data": {
      "application/vnd.plotly.v1+json": {
       "config": {
        "plotlyServerURL": "https://plot.ly"
       },
       "data": [
        {
         "alignmentgroup": "True",
         "hovertemplate": "States=%{x}<br>Influenza Deaths=%{y}<extra></extra>",
         "legendgroup": "",
         "marker": {
          "color": "#636efa",
          "pattern": {
           "shape": ""
          }
         },
         "name": "",
         "offsetgroup": "",
         "orientation": "v",
         "showlegend": false,
         "textposition": "auto",
         "type": "bar",
         "x": [
          "Alabama",
          "Alaska",
          "Arizona",
          "Arkansas",
          "California",
          "Colorado",
          "Connecticut",
          "Delaware",
          "District of Columbia",
          "Florida",
          "Georgia",
          "Hawaii",
          "Idaho",
          "Illinois",
          "Indiana",
          "Iowa",
          "Kansas",
          "Kentucky",
          "Louisiana",
          "Maine",
          "Maryland",
          "Massachusetts",
          "Michigan",
          "Minnesota",
          "Mississippi",
          "Missouri",
          "Montana",
          "Nebraska",
          "Nevada",
          "New Hampshire",
          "New Jersey",
          "New Mexico",
          "New York",
          "North Carolina",
          "North Dakota",
          "Ohio",
          "Oklahoma",
          "Oregon",
          "Pennsylvania",
          "Rhode Island",
          "South Carolina",
          "South Dakota",
          "Tennessee",
          "Texas",
          "Utah",
          "Vermont",
          "Virginia",
          "Washington",
          "West Virginia",
          "Wisconsin",
          "Wyoming",
          "New York City"
         ],
         "xaxis": "x",
         "y": [
          164,
          24,
          155,
          101,
          604,
          143,
          92,
          37,
          5,
          554,
          288,
          19,
          43,
          228,
          191,
          121,
          51,
          181,
          146,
          50,
          130,
          205,
          274,
          150,
          122,
          146,
          75,
          58,
          82,
          48,
          181,
          69,
          324,
          214,
          421,
          34,
          296,
          152,
          68,
          421,
          47,
          223,
          45,
          249,
          639,
          62,
          24,
          222,
          140,
          91,
          138,
          29
         ],
         "yaxis": "y"
        }
       ],
       "layout": {
        "barmode": "relative",
        "legend": {
         "tracegroupgap": 0
        },
        "template": {
         "data": {
          "bar": [
           {
            "error_x": {
             "color": "#2a3f5f"
            },
            "error_y": {
             "color": "#2a3f5f"
            },
            "marker": {
             "line": {
              "color": "#E5ECF6",
              "width": 0.5
             },
             "pattern": {
              "fillmode": "overlay",
              "size": 10,
              "solidity": 0.2
             }
            },
            "type": "bar"
           }
          ],
          "barpolar": [
           {
            "marker": {
             "line": {
              "color": "#E5ECF6",
              "width": 0.5
             },
             "pattern": {
              "fillmode": "overlay",
              "size": 10,
              "solidity": 0.2
             }
            },
            "type": "barpolar"
           }
          ],
          "carpet": [
           {
            "aaxis": {
             "endlinecolor": "#2a3f5f",
             "gridcolor": "white",
             "linecolor": "white",
             "minorgridcolor": "white",
             "startlinecolor": "#2a3f5f"
            },
            "baxis": {
             "endlinecolor": "#2a3f5f",
             "gridcolor": "white",
             "linecolor": "white",
             "minorgridcolor": "white",
             "startlinecolor": "#2a3f5f"
            },
            "type": "carpet"
           }
          ],
          "choropleth": [
           {
            "colorbar": {
             "outlinewidth": 0,
             "ticks": ""
            },
            "type": "choropleth"
           }
          ],
          "contour": [
           {
            "colorbar": {
             "outlinewidth": 0,
             "ticks": ""
            },
            "colorscale": [
             [
              0,
              "#0d0887"
             ],
             [
              0.1111111111111111,
              "#46039f"
             ],
             [
              0.2222222222222222,
              "#7201a8"
             ],
             [
              0.3333333333333333,
              "#9c179e"
             ],
             [
              0.4444444444444444,
              "#bd3786"
             ],
             [
              0.5555555555555556,
              "#d8576b"
             ],
             [
              0.6666666666666666,
              "#ed7953"
             ],
             [
              0.7777777777777778,
              "#fb9f3a"
             ],
             [
              0.8888888888888888,
              "#fdca26"
             ],
             [
              1,
              "#f0f921"
             ]
            ],
            "type": "contour"
           }
          ],
          "contourcarpet": [
           {
            "colorbar": {
             "outlinewidth": 0,
             "ticks": ""
            },
            "type": "contourcarpet"
           }
          ],
          "heatmap": [
           {
            "colorbar": {
             "outlinewidth": 0,
             "ticks": ""
            },
            "colorscale": [
             [
              0,
              "#0d0887"
             ],
             [
              0.1111111111111111,
              "#46039f"
             ],
             [
              0.2222222222222222,
              "#7201a8"
             ],
             [
              0.3333333333333333,
              "#9c179e"
             ],
             [
              0.4444444444444444,
              "#bd3786"
             ],
             [
              0.5555555555555556,
              "#d8576b"
             ],
             [
              0.6666666666666666,
              "#ed7953"
             ],
             [
              0.7777777777777778,
              "#fb9f3a"
             ],
             [
              0.8888888888888888,
              "#fdca26"
             ],
             [
              1,
              "#f0f921"
             ]
            ],
            "type": "heatmap"
           }
          ],
          "heatmapgl": [
           {
            "colorbar": {
             "outlinewidth": 0,
             "ticks": ""
            },
            "colorscale": [
             [
              0,
              "#0d0887"
             ],
             [
              0.1111111111111111,
              "#46039f"
             ],
             [
              0.2222222222222222,
              "#7201a8"
             ],
             [
              0.3333333333333333,
              "#9c179e"
             ],
             [
              0.4444444444444444,
              "#bd3786"
             ],
             [
              0.5555555555555556,
              "#d8576b"
             ],
             [
              0.6666666666666666,
              "#ed7953"
             ],
             [
              0.7777777777777778,
              "#fb9f3a"
             ],
             [
              0.8888888888888888,
              "#fdca26"
             ],
             [
              1,
              "#f0f921"
             ]
            ],
            "type": "heatmapgl"
           }
          ],
          "histogram": [
           {
            "marker": {
             "pattern": {
              "fillmode": "overlay",
              "size": 10,
              "solidity": 0.2
             }
            },
            "type": "histogram"
           }
          ],
          "histogram2d": [
           {
            "colorbar": {
             "outlinewidth": 0,
             "ticks": ""
            },
            "colorscale": [
             [
              0,
              "#0d0887"
             ],
             [
              0.1111111111111111,
              "#46039f"
             ],
             [
              0.2222222222222222,
              "#7201a8"
             ],
             [
              0.3333333333333333,
              "#9c179e"
             ],
             [
              0.4444444444444444,
              "#bd3786"
             ],
             [
              0.5555555555555556,
              "#d8576b"
             ],
             [
              0.6666666666666666,
              "#ed7953"
             ],
             [
              0.7777777777777778,
              "#fb9f3a"
             ],
             [
              0.8888888888888888,
              "#fdca26"
             ],
             [
              1,
              "#f0f921"
             ]
            ],
            "type": "histogram2d"
           }
          ],
          "histogram2dcontour": [
           {
            "colorbar": {
             "outlinewidth": 0,
             "ticks": ""
            },
            "colorscale": [
             [
              0,
              "#0d0887"
             ],
             [
              0.1111111111111111,
              "#46039f"
             ],
             [
              0.2222222222222222,
              "#7201a8"
             ],
             [
              0.3333333333333333,
              "#9c179e"
             ],
             [
              0.4444444444444444,
              "#bd3786"
             ],
             [
              0.5555555555555556,
              "#d8576b"
             ],
             [
              0.6666666666666666,
              "#ed7953"
             ],
             [
              0.7777777777777778,
              "#fb9f3a"
             ],
             [
              0.8888888888888888,
              "#fdca26"
             ],
             [
              1,
              "#f0f921"
             ]
            ],
            "type": "histogram2dcontour"
           }
          ],
          "mesh3d": [
           {
            "colorbar": {
             "outlinewidth": 0,
             "ticks": ""
            },
            "type": "mesh3d"
           }
          ],
          "parcoords": [
           {
            "line": {
             "colorbar": {
              "outlinewidth": 0,
              "ticks": ""
             }
            },
            "type": "parcoords"
           }
          ],
          "pie": [
           {
            "automargin": true,
            "type": "pie"
           }
          ],
          "scatter": [
           {
            "fillpattern": {
             "fillmode": "overlay",
             "size": 10,
             "solidity": 0.2
            },
            "type": "scatter"
           }
          ],
          "scatter3d": [
           {
            "line": {
             "colorbar": {
              "outlinewidth": 0,
              "ticks": ""
             }
            },
            "marker": {
             "colorbar": {
              "outlinewidth": 0,
              "ticks": ""
             }
            },
            "type": "scatter3d"
           }
          ],
          "scattercarpet": [
           {
            "marker": {
             "colorbar": {
              "outlinewidth": 0,
              "ticks": ""
             }
            },
            "type": "scattercarpet"
           }
          ],
          "scattergeo": [
           {
            "marker": {
             "colorbar": {
              "outlinewidth": 0,
              "ticks": ""
             }
            },
            "type": "scattergeo"
           }
          ],
          "scattergl": [
           {
            "marker": {
             "colorbar": {
              "outlinewidth": 0,
              "ticks": ""
             }
            },
            "type": "scattergl"
           }
          ],
          "scattermapbox": [
           {
            "marker": {
             "colorbar": {
              "outlinewidth": 0,
              "ticks": ""
             }
            },
            "type": "scattermapbox"
           }
          ],
          "scatterpolar": [
           {
            "marker": {
             "colorbar": {
              "outlinewidth": 0,
              "ticks": ""
             }
            },
            "type": "scatterpolar"
           }
          ],
          "scatterpolargl": [
           {
            "marker": {
             "colorbar": {
              "outlinewidth": 0,
              "ticks": ""
             }
            },
            "type": "scatterpolargl"
           }
          ],
          "scatterternary": [
           {
            "marker": {
             "colorbar": {
              "outlinewidth": 0,
              "ticks": ""
             }
            },
            "type": "scatterternary"
           }
          ],
          "surface": [
           {
            "colorbar": {
             "outlinewidth": 0,
             "ticks": ""
            },
            "colorscale": [
             [
              0,
              "#0d0887"
             ],
             [
              0.1111111111111111,
              "#46039f"
             ],
             [
              0.2222222222222222,
              "#7201a8"
             ],
             [
              0.3333333333333333,
              "#9c179e"
             ],
             [
              0.4444444444444444,
              "#bd3786"
             ],
             [
              0.5555555555555556,
              "#d8576b"
             ],
             [
              0.6666666666666666,
              "#ed7953"
             ],
             [
              0.7777777777777778,
              "#fb9f3a"
             ],
             [
              0.8888888888888888,
              "#fdca26"
             ],
             [
              1,
              "#f0f921"
             ]
            ],
            "type": "surface"
           }
          ],
          "table": [
           {
            "cells": {
             "fill": {
              "color": "#EBF0F8"
             },
             "line": {
              "color": "white"
             }
            },
            "header": {
             "fill": {
              "color": "#C8D4E3"
             },
             "line": {
              "color": "white"
             }
            },
            "type": "table"
           }
          ]
         },
         "layout": {
          "annotationdefaults": {
           "arrowcolor": "#2a3f5f",
           "arrowhead": 0,
           "arrowwidth": 1
          },
          "autotypenumbers": "strict",
          "coloraxis": {
           "colorbar": {
            "outlinewidth": 0,
            "ticks": ""
           }
          },
          "colorscale": {
           "diverging": [
            [
             0,
             "#8e0152"
            ],
            [
             0.1,
             "#c51b7d"
            ],
            [
             0.2,
             "#de77ae"
            ],
            [
             0.3,
             "#f1b6da"
            ],
            [
             0.4,
             "#fde0ef"
            ],
            [
             0.5,
             "#f7f7f7"
            ],
            [
             0.6,
             "#e6f5d0"
            ],
            [
             0.7,
             "#b8e186"
            ],
            [
             0.8,
             "#7fbc41"
            ],
            [
             0.9,
             "#4d9221"
            ],
            [
             1,
             "#276419"
            ]
           ],
           "sequential": [
            [
             0,
             "#0d0887"
            ],
            [
             0.1111111111111111,
             "#46039f"
            ],
            [
             0.2222222222222222,
             "#7201a8"
            ],
            [
             0.3333333333333333,
             "#9c179e"
            ],
            [
             0.4444444444444444,
             "#bd3786"
            ],
            [
             0.5555555555555556,
             "#d8576b"
            ],
            [
             0.6666666666666666,
             "#ed7953"
            ],
            [
             0.7777777777777778,
             "#fb9f3a"
            ],
            [
             0.8888888888888888,
             "#fdca26"
            ],
            [
             1,
             "#f0f921"
            ]
           ],
           "sequentialminus": [
            [
             0,
             "#0d0887"
            ],
            [
             0.1111111111111111,
             "#46039f"
            ],
            [
             0.2222222222222222,
             "#7201a8"
            ],
            [
             0.3333333333333333,
             "#9c179e"
            ],
            [
             0.4444444444444444,
             "#bd3786"
            ],
            [
             0.5555555555555556,
             "#d8576b"
            ],
            [
             0.6666666666666666,
             "#ed7953"
            ],
            [
             0.7777777777777778,
             "#fb9f3a"
            ],
            [
             0.8888888888888888,
             "#fdca26"
            ],
            [
             1,
             "#f0f921"
            ]
           ]
          },
          "colorway": [
           "#636efa",
           "#EF553B",
           "#00cc96",
           "#ab63fa",
           "#FFA15A",
           "#19d3f3",
           "#FF6692",
           "#B6E880",
           "#FF97FF",
           "#FECB52"
          ],
          "font": {
           "color": "#2a3f5f"
          },
          "geo": {
           "bgcolor": "white",
           "lakecolor": "white",
           "landcolor": "#E5ECF6",
           "showlakes": true,
           "showland": true,
           "subunitcolor": "white"
          },
          "hoverlabel": {
           "align": "left"
          },
          "hovermode": "closest",
          "mapbox": {
           "style": "light"
          },
          "paper_bgcolor": "white",
          "plot_bgcolor": "#E5ECF6",
          "polar": {
           "angularaxis": {
            "gridcolor": "white",
            "linecolor": "white",
            "ticks": ""
           },
           "bgcolor": "#E5ECF6",
           "radialaxis": {
            "gridcolor": "white",
            "linecolor": "white",
            "ticks": ""
           }
          },
          "scene": {
           "xaxis": {
            "backgroundcolor": "#E5ECF6",
            "gridcolor": "white",
            "gridwidth": 2,
            "linecolor": "white",
            "showbackground": true,
            "ticks": "",
            "zerolinecolor": "white"
           },
           "yaxis": {
            "backgroundcolor": "#E5ECF6",
            "gridcolor": "white",
            "gridwidth": 2,
            "linecolor": "white",
            "showbackground": true,
            "ticks": "",
            "zerolinecolor": "white"
           },
           "zaxis": {
            "backgroundcolor": "#E5ECF6",
            "gridcolor": "white",
            "gridwidth": 2,
            "linecolor": "white",
            "showbackground": true,
            "ticks": "",
            "zerolinecolor": "white"
           }
          },
          "shapedefaults": {
           "line": {
            "color": "#2a3f5f"
           }
          },
          "ternary": {
           "aaxis": {
            "gridcolor": "white",
            "linecolor": "white",
            "ticks": ""
           },
           "baxis": {
            "gridcolor": "white",
            "linecolor": "white",
            "ticks": ""
           },
           "bgcolor": "#E5ECF6",
           "caxis": {
            "gridcolor": "white",
            "linecolor": "white",
            "ticks": ""
           }
          },
          "title": {
           "x": 0.05
          },
          "xaxis": {
           "automargin": true,
           "gridcolor": "white",
           "linecolor": "white",
           "ticks": "",
           "title": {
            "standoff": 15
           },
           "zerolinecolor": "white",
           "zerolinewidth": 2
          },
          "yaxis": {
           "automargin": true,
           "gridcolor": "white",
           "linecolor": "white",
           "ticks": "",
           "title": {
            "standoff": 15
           },
           "zerolinecolor": "white",
           "zerolinewidth": 2
          }
         }
        },
        "title": {
         "text": "Influenza Deaths per State 2023-2024"
        },
        "xaxis": {
         "anchor": "y",
         "domain": [
          0,
          1
         ],
         "title": {
          "text": "States"
         }
        },
        "yaxis": {
         "anchor": "x",
         "domain": [
          0,
          1
         ],
         "title": {
          "text": "Influenza Deaths"
         }
        }
       }
      }
     },
     "metadata": {},
     "output_type": "display_data"
    }
   ],
   "source": [
    "states = influenza_deaths_df['States']\n",
    "deaths = influenza_deaths_df['Influenza Deaths']\n",
    "\n",
    "\n",
    "plt.figure(figsize=(12, 5))\n",
    "plt.bar(states, deaths, color='red')\n",
    "plt.xticks(rotation=90)\n",
    "plt.xlabel('States')\n",
    "plt.ylabel('Influenza Deaths')\n",
    "plt.title('Influenza Deaths per State 2023-2024')\n",
    "plt.show()\n",
    "\n",
    "import plotly.express as px\n",
    "\n",
    "states = influenza_deaths_df['States']\n",
    "deaths = influenza_deaths_df['Influenza Deaths']\n",
    "\n",
    "fig = px.bar(x=states, y=deaths, labels={'x':'States', 'y':'Influenza Deaths'}, title='Influenza Deaths per State 2023-2024')\n",
    "fig.show()\n",
    "fig.write_html(\"interactive_mortality_plot.html\")"
   ]
  },
  {
   "cell_type": "code",
   "execution_count": 7,
   "id": "72d5f089",
   "metadata": {},
   "outputs": [
    {
     "data": {
      "text/plain": [
       "'ILINet Data:'"
      ]
     },
     "metadata": {},
     "output_type": "display_data"
    },
    {
     "data": {
      "text/html": [
       "<div>\n",
       "<style scoped>\n",
       "    .dataframe tbody tr th:only-of-type {\n",
       "        vertical-align: middle;\n",
       "    }\n",
       "\n",
       "    .dataframe tbody tr th {\n",
       "        vertical-align: top;\n",
       "    }\n",
       "\n",
       "    .dataframe thead th {\n",
       "        text-align: right;\n",
       "    }\n",
       "</style>\n",
       "<table border=\"1\" class=\"dataframe\">\n",
       "  <thead>\n",
       "    <tr style=\"text-align: right;\">\n",
       "      <th></th>\n",
       "      <th></th>\n",
       "      <th></th>\n",
       "      <th></th>\n",
       "      <th></th>\n",
       "      <th></th>\n",
       "      <th></th>\n",
       "      <th></th>\n",
       "      <th></th>\n",
       "      <th></th>\n",
       "      <th></th>\n",
       "      <th></th>\n",
       "      <th></th>\n",
       "      <th></th>\n",
       "      <th>PERCENTAGE OF VISITS FOR INFLUENZA-LIKE-ILLNESS REPORTED BY SENTINEL PROVIDERS</th>\n",
       "    </tr>\n",
       "  </thead>\n",
       "  <tbody>\n",
       "    <tr>\n",
       "      <th>REGION TYPE</th>\n",
       "      <th>REGION</th>\n",
       "      <th>YEAR</th>\n",
       "      <th>WEEK</th>\n",
       "      <th>% WEIGHTED ILI</th>\n",
       "      <th>%UNWEIGHTED ILI</th>\n",
       "      <th>AGE 0-4</th>\n",
       "      <th>AGE 25-49</th>\n",
       "      <th>AGE 25-64</th>\n",
       "      <th>AGE 5-24</th>\n",
       "      <th>AGE 50-64</th>\n",
       "      <th>AGE 65</th>\n",
       "      <th>ILITOTAL</th>\n",
       "      <th>NUM. OF PROVIDERS</th>\n",
       "      <td>TOTAL PATIENTS</td>\n",
       "    </tr>\n",
       "    <tr>\n",
       "      <th rowspan=\"4\" valign=\"top\">States</th>\n",
       "      <th>Alabama</th>\n",
       "      <th>2023</th>\n",
       "      <th>40</th>\n",
       "      <th>X</th>\n",
       "      <th>2.386</th>\n",
       "      <th>X</th>\n",
       "      <th>X</th>\n",
       "      <th>X</th>\n",
       "      <th>X</th>\n",
       "      <th>X</th>\n",
       "      <th>X</th>\n",
       "      <th>1024</th>\n",
       "      <th>106</th>\n",
       "      <td>42917</td>\n",
       "    </tr>\n",
       "    <tr>\n",
       "      <th>Alaska</th>\n",
       "      <th>2023</th>\n",
       "      <th>40</th>\n",
       "      <th>X</th>\n",
       "      <th>3.46432</th>\n",
       "      <th>X</th>\n",
       "      <th>X</th>\n",
       "      <th>X</th>\n",
       "      <th>X</th>\n",
       "      <th>X</th>\n",
       "      <th>X</th>\n",
       "      <th>134</th>\n",
       "      <th>12</th>\n",
       "      <td>3868</td>\n",
       "    </tr>\n",
       "    <tr>\n",
       "      <th>Arizona</th>\n",
       "      <th>2023</th>\n",
       "      <th>40</th>\n",
       "      <th>X</th>\n",
       "      <th>1.93528</th>\n",
       "      <th>X</th>\n",
       "      <th>X</th>\n",
       "      <th>X</th>\n",
       "      <th>X</th>\n",
       "      <th>X</th>\n",
       "      <th>X</th>\n",
       "      <th>1446</th>\n",
       "      <th>122</th>\n",
       "      <td>74718</td>\n",
       "    </tr>\n",
       "    <tr>\n",
       "      <th>Arkansas</th>\n",
       "      <th>2023</th>\n",
       "      <th>40</th>\n",
       "      <th>X</th>\n",
       "      <th>1.5546</th>\n",
       "      <th>X</th>\n",
       "      <th>X</th>\n",
       "      <th>X</th>\n",
       "      <th>X</th>\n",
       "      <th>X</th>\n",
       "      <th>X</th>\n",
       "      <th>252</th>\n",
       "      <th>52</th>\n",
       "      <td>16210</td>\n",
       "    </tr>\n",
       "  </tbody>\n",
       "</table>\n",
       "</div>"
      ],
      "text/plain": [
       "                                                                                                                                               PERCENTAGE OF VISITS FOR INFLUENZA-LIKE-ILLNESS REPORTED BY SENTINEL PROVIDERS\n",
       "REGION TYPE REGION   YEAR WEEK % WEIGHTED ILI %UNWEIGHTED ILI AGE 0-4 AGE 25-49 AGE 25-64 AGE 5-24 AGE 50-64 AGE 65 ILITOTAL NUM. OF PROVIDERS                                     TOTAL PATIENTS                            \n",
       "States      Alabama  2023 40   X              2.386           X       X         X         X        X         X      1024     106                                                            42917                            \n",
       "            Alaska   2023 40   X              3.46432         X       X         X         X        X         X      134      12                                                              3868                            \n",
       "            Arizona  2023 40   X              1.93528         X       X         X         X        X         X      1446     122                                                            74718                            \n",
       "            Arkansas 2023 40   X              1.5546          X       X         X         X        X         X      252      52                                                             16210                            "
      ]
     },
     "metadata": {},
     "output_type": "display_data"
    },
    {
     "data": {
      "text/plain": [
       "'\\nClinical Labs Data:'"
      ]
     },
     "metadata": {},
     "output_type": "display_data"
    },
    {
     "data": {
      "text/html": [
       "<div>\n",
       "<style scoped>\n",
       "    .dataframe tbody tr th:only-of-type {\n",
       "        vertical-align: middle;\n",
       "    }\n",
       "\n",
       "    .dataframe tbody tr th {\n",
       "        vertical-align: top;\n",
       "    }\n",
       "\n",
       "    .dataframe thead th {\n",
       "        text-align: right;\n",
       "    }\n",
       "</style>\n",
       "<table border=\"1\" class=\"dataframe\">\n",
       "  <thead>\n",
       "    <tr style=\"text-align: right;\">\n",
       "      <th></th>\n",
       "      <th>REGION TYPE</th>\n",
       "      <th>REGION</th>\n",
       "      <th>YEAR</th>\n",
       "      <th>WEEK</th>\n",
       "      <th>TOTAL SPECIMENS</th>\n",
       "      <th>TOTAL A</th>\n",
       "      <th>TOTAL B</th>\n",
       "      <th>PERCENT POSITIVE</th>\n",
       "      <th>PERCENT A</th>\n",
       "      <th>PERCENT B</th>\n",
       "    </tr>\n",
       "  </thead>\n",
       "  <tbody>\n",
       "    <tr>\n",
       "      <th>0</th>\n",
       "      <td>States</td>\n",
       "      <td>Alabama</td>\n",
       "      <td>2023</td>\n",
       "      <td>40</td>\n",
       "      <td>359</td>\n",
       "      <td>7</td>\n",
       "      <td>2</td>\n",
       "      <td>2.51</td>\n",
       "      <td>1.95</td>\n",
       "      <td>0.56</td>\n",
       "    </tr>\n",
       "    <tr>\n",
       "      <th>1</th>\n",
       "      <td>States</td>\n",
       "      <td>Alaska</td>\n",
       "      <td>2023</td>\n",
       "      <td>40</td>\n",
       "      <td>X</td>\n",
       "      <td>X</td>\n",
       "      <td>X</td>\n",
       "      <td>X</td>\n",
       "      <td>X</td>\n",
       "      <td>X</td>\n",
       "    </tr>\n",
       "    <tr>\n",
       "      <th>2</th>\n",
       "      <td>States</td>\n",
       "      <td>Arizona</td>\n",
       "      <td>2023</td>\n",
       "      <td>40</td>\n",
       "      <td>183</td>\n",
       "      <td>2</td>\n",
       "      <td>0</td>\n",
       "      <td>1.09</td>\n",
       "      <td>1.09</td>\n",
       "      <td>0</td>\n",
       "    </tr>\n",
       "    <tr>\n",
       "      <th>3</th>\n",
       "      <td>States</td>\n",
       "      <td>Arkansas</td>\n",
       "      <td>2023</td>\n",
       "      <td>40</td>\n",
       "      <td>407</td>\n",
       "      <td>5</td>\n",
       "      <td>3</td>\n",
       "      <td>1.97</td>\n",
       "      <td>1.23</td>\n",
       "      <td>0.74</td>\n",
       "    </tr>\n",
       "    <tr>\n",
       "      <th>4</th>\n",
       "      <td>States</td>\n",
       "      <td>California</td>\n",
       "      <td>2023</td>\n",
       "      <td>40</td>\n",
       "      <td>3333</td>\n",
       "      <td>26</td>\n",
       "      <td>5</td>\n",
       "      <td>0.93</td>\n",
       "      <td>0.78</td>\n",
       "      <td>0.15</td>\n",
       "    </tr>\n",
       "  </tbody>\n",
       "</table>\n",
       "</div>"
      ],
      "text/plain": [
       "  REGION TYPE      REGION  YEAR  WEEK TOTAL SPECIMENS TOTAL A TOTAL B  \\\n",
       "0      States     Alabama  2023    40             359       7       2   \n",
       "1      States      Alaska  2023    40               X       X       X   \n",
       "2      States     Arizona  2023    40             183       2       0   \n",
       "3      States    Arkansas  2023    40             407       5       3   \n",
       "4      States  California  2023    40            3333      26       5   \n",
       "\n",
       "  PERCENT POSITIVE PERCENT A PERCENT B  \n",
       "0             2.51      1.95      0.56  \n",
       "1                X         X         X  \n",
       "2             1.09      1.09         0  \n",
       "3             1.97      1.23      0.74  \n",
       "4             0.93      0.78      0.15  "
      ]
     },
     "metadata": {},
     "output_type": "display_data"
    },
    {
     "data": {
      "text/plain": [
       "'\\nPublic Health Labs Data:'"
      ]
     },
     "metadata": {},
     "output_type": "display_data"
    },
    {
     "data": {
      "text/html": [
       "<div>\n",
       "<style scoped>\n",
       "    .dataframe tbody tr th:only-of-type {\n",
       "        vertical-align: middle;\n",
       "    }\n",
       "\n",
       "    .dataframe tbody tr th {\n",
       "        vertical-align: top;\n",
       "    }\n",
       "\n",
       "    .dataframe thead th {\n",
       "        text-align: right;\n",
       "    }\n",
       "</style>\n",
       "<table border=\"1\" class=\"dataframe\">\n",
       "  <thead>\n",
       "    <tr style=\"text-align: right;\">\n",
       "      <th></th>\n",
       "      <th>REGION TYPE</th>\n",
       "      <th>REGION</th>\n",
       "      <th>SEASON_DESCRIPTION</th>\n",
       "      <th>TOTAL SPECIMENS</th>\n",
       "      <th>A (2009 H1N1)</th>\n",
       "      <th>A (H3)</th>\n",
       "      <th>A (Subtyping not Performed)</th>\n",
       "      <th>B</th>\n",
       "      <th>BVic</th>\n",
       "      <th>BYam</th>\n",
       "      <th>H3N2v</th>\n",
       "    </tr>\n",
       "  </thead>\n",
       "  <tbody>\n",
       "    <tr>\n",
       "      <th>0</th>\n",
       "      <td>States</td>\n",
       "      <td>Alabama</td>\n",
       "      <td>Season 2023-24</td>\n",
       "      <td>202</td>\n",
       "      <td>25</td>\n",
       "      <td>6</td>\n",
       "      <td>5</td>\n",
       "      <td>0</td>\n",
       "      <td>13</td>\n",
       "      <td>0</td>\n",
       "      <td>0</td>\n",
       "    </tr>\n",
       "    <tr>\n",
       "      <th>1</th>\n",
       "      <td>States</td>\n",
       "      <td>Alaska</td>\n",
       "      <td>Season 2023-24</td>\n",
       "      <td>45</td>\n",
       "      <td>6</td>\n",
       "      <td>1</td>\n",
       "      <td>3</td>\n",
       "      <td>3</td>\n",
       "      <td>0</td>\n",
       "      <td>0</td>\n",
       "      <td>0</td>\n",
       "    </tr>\n",
       "    <tr>\n",
       "      <th>2</th>\n",
       "      <td>States</td>\n",
       "      <td>Arizona</td>\n",
       "      <td>Season 2023-24</td>\n",
       "      <td>2484</td>\n",
       "      <td>481</td>\n",
       "      <td>92</td>\n",
       "      <td>9</td>\n",
       "      <td>3</td>\n",
       "      <td>151</td>\n",
       "      <td>0</td>\n",
       "      <td>0</td>\n",
       "    </tr>\n",
       "    <tr>\n",
       "      <th>3</th>\n",
       "      <td>States</td>\n",
       "      <td>Arkansas</td>\n",
       "      <td>Season 2023-24</td>\n",
       "      <td>1339</td>\n",
       "      <td>45</td>\n",
       "      <td>191</td>\n",
       "      <td>200</td>\n",
       "      <td>6</td>\n",
       "      <td>36</td>\n",
       "      <td>0</td>\n",
       "      <td>0</td>\n",
       "    </tr>\n",
       "    <tr>\n",
       "      <th>4</th>\n",
       "      <td>States</td>\n",
       "      <td>California</td>\n",
       "      <td>Season 2023-24</td>\n",
       "      <td>5092</td>\n",
       "      <td>1333</td>\n",
       "      <td>371</td>\n",
       "      <td>124</td>\n",
       "      <td>83</td>\n",
       "      <td>170</td>\n",
       "      <td>0</td>\n",
       "      <td>0</td>\n",
       "    </tr>\n",
       "  </tbody>\n",
       "</table>\n",
       "</div>"
      ],
      "text/plain": [
       "  REGION TYPE      REGION SEASON_DESCRIPTION TOTAL SPECIMENS A (2009 H1N1)  \\\n",
       "0      States     Alabama    Season 2023-24              202            25   \n",
       "1      States      Alaska    Season 2023-24               45             6   \n",
       "2      States     Arizona    Season 2023-24             2484           481   \n",
       "3      States    Arkansas    Season 2023-24             1339            45   \n",
       "4      States  California    Season 2023-24             5092          1333   \n",
       "\n",
       "  A (H3) A (Subtyping not Performed)   B BVic BYam H3N2v  \n",
       "0      6                           5   0   13    0     0  \n",
       "1      1                           3   3    0    0     0  \n",
       "2     92                           9   3  151    0     0  \n",
       "3    191                         200   6   36    0     0  \n",
       "4    371                         124  83  170    0     0  "
      ]
     },
     "metadata": {},
     "output_type": "display_data"
    }
   ],
   "source": [
    "#walter's data\n",
    "# Load the data from the CSV files\n",
    "ILI = pd.read_csv(\"data/ILINet.csv\")\n",
    "CLD = pd.read_csv(\"data/WHO_NREVSS_Clinical_Labs.csv\")\n",
    "PHLD = pd.read_csv(\"data/WHO_NREVSS_Public_Health_Labs.csv\")\n",
    "\n",
    "# Display the first few rows of each DataFrame\n",
    "display(\"ILINet Data:\")\n",
    "display(ILI.head())\n",
    "\n",
    "display(\"\\nClinical Labs Data:\")\n",
    "display(CLD.head())\n",
    "\n",
    "display(\"\\nPublic Health Labs Data:\")\n",
    "display(PHLD.head())\n"
   ]
  },
  {
   "cell_type": "code",
   "execution_count": 8,
   "id": "5ef55587",
   "metadata": {},
   "outputs": [
    {
     "data": {
      "text/html": [
       "<div>\n",
       "<style scoped>\n",
       "    .dataframe tbody tr th:only-of-type {\n",
       "        vertical-align: middle;\n",
       "    }\n",
       "\n",
       "    .dataframe tbody tr th {\n",
       "        vertical-align: top;\n",
       "    }\n",
       "\n",
       "    .dataframe thead th {\n",
       "        text-align: right;\n",
       "    }\n",
       "</style>\n",
       "<table border=\"1\" class=\"dataframe\">\n",
       "  <thead>\n",
       "    <tr style=\"text-align: right;\">\n",
       "      <th></th>\n",
       "      <th>REGION TYPE</th>\n",
       "      <th>REGION</th>\n",
       "      <th>SEASON_DESCRIPTION</th>\n",
       "      <th>TOTAL SPECIMENS</th>\n",
       "      <th>A (2009 H1N1)</th>\n",
       "      <th>A (H3)</th>\n",
       "      <th>A (Subtyping not Performed)</th>\n",
       "      <th>B</th>\n",
       "      <th>BVic</th>\n",
       "      <th>BYam</th>\n",
       "      <th>H3N2v</th>\n",
       "    </tr>\n",
       "  </thead>\n",
       "  <tbody>\n",
       "    <tr>\n",
       "      <th>0</th>\n",
       "      <td>States</td>\n",
       "      <td>Alabama</td>\n",
       "      <td>Season 2023-24</td>\n",
       "      <td>202.0</td>\n",
       "      <td>25.0</td>\n",
       "      <td>6.0</td>\n",
       "      <td>5.0</td>\n",
       "      <td>0.0</td>\n",
       "      <td>13.0</td>\n",
       "      <td>0.0</td>\n",
       "      <td>0.0</td>\n",
       "    </tr>\n",
       "    <tr>\n",
       "      <th>1</th>\n",
       "      <td>States</td>\n",
       "      <td>Alaska</td>\n",
       "      <td>Season 2023-24</td>\n",
       "      <td>45.0</td>\n",
       "      <td>6.0</td>\n",
       "      <td>1.0</td>\n",
       "      <td>3.0</td>\n",
       "      <td>3.0</td>\n",
       "      <td>0.0</td>\n",
       "      <td>0.0</td>\n",
       "      <td>0.0</td>\n",
       "    </tr>\n",
       "    <tr>\n",
       "      <th>2</th>\n",
       "      <td>States</td>\n",
       "      <td>Arizona</td>\n",
       "      <td>Season 2023-24</td>\n",
       "      <td>2484.0</td>\n",
       "      <td>481.0</td>\n",
       "      <td>92.0</td>\n",
       "      <td>9.0</td>\n",
       "      <td>3.0</td>\n",
       "      <td>151.0</td>\n",
       "      <td>0.0</td>\n",
       "      <td>0.0</td>\n",
       "    </tr>\n",
       "    <tr>\n",
       "      <th>3</th>\n",
       "      <td>States</td>\n",
       "      <td>Arkansas</td>\n",
       "      <td>Season 2023-24</td>\n",
       "      <td>1339.0</td>\n",
       "      <td>45.0</td>\n",
       "      <td>191.0</td>\n",
       "      <td>200.0</td>\n",
       "      <td>6.0</td>\n",
       "      <td>36.0</td>\n",
       "      <td>0.0</td>\n",
       "      <td>0.0</td>\n",
       "    </tr>\n",
       "    <tr>\n",
       "      <th>4</th>\n",
       "      <td>States</td>\n",
       "      <td>California</td>\n",
       "      <td>Season 2023-24</td>\n",
       "      <td>5092.0</td>\n",
       "      <td>1333.0</td>\n",
       "      <td>371.0</td>\n",
       "      <td>124.0</td>\n",
       "      <td>83.0</td>\n",
       "      <td>170.0</td>\n",
       "      <td>0.0</td>\n",
       "      <td>0.0</td>\n",
       "    </tr>\n",
       "  </tbody>\n",
       "</table>\n",
       "</div>"
      ],
      "text/plain": [
       "  REGION TYPE      REGION SEASON_DESCRIPTION  TOTAL SPECIMENS  A (2009 H1N1)  \\\n",
       "0      States     Alabama    Season 2023-24             202.0           25.0   \n",
       "1      States      Alaska    Season 2023-24              45.0            6.0   \n",
       "2      States     Arizona    Season 2023-24            2484.0          481.0   \n",
       "3      States    Arkansas    Season 2023-24            1339.0           45.0   \n",
       "4      States  California    Season 2023-24            5092.0         1333.0   \n",
       "\n",
       "   A (H3)  A (Subtyping not Performed)     B   BVic  BYam  H3N2v  \n",
       "0     6.0                          5.0   0.0   13.0   0.0    0.0  \n",
       "1     1.0                          3.0   3.0    0.0   0.0    0.0  \n",
       "2    92.0                          9.0   3.0  151.0   0.0    0.0  \n",
       "3   191.0                        200.0   6.0   36.0   0.0    0.0  \n",
       "4   371.0                        124.0  83.0  170.0   0.0    0.0  "
      ]
     },
     "metadata": {},
     "output_type": "display_data"
    }
   ],
   "source": [
    "# Convert relevant columns to numeric\n",
    "PHLD[['TOTAL SPECIMENS', 'A (2009 H1N1)', 'A (H3)', 'A (Subtyping not Performed)', 'B', 'BVic', 'BYam', 'H3N2v']] = PHLD[['TOTAL SPECIMENS', 'A (2009 H1N1)', 'A (H3)', 'A (Subtyping not Performed)', 'B', 'BVic', 'BYam', 'H3N2v']].apply(pd.to_numeric, errors='coerce')\n",
    "\n",
    "# Drop rows with missing or NaN values\n",
    "PHLD_cleaned = PHLD.dropna()\n",
    "\n",
    "# Display the first few rows of the cleaned DataFrame\n",
    "display(PHLD_cleaned.head())\n",
    "\n",
    "# Export the cleaned DataFrame to a CSV file\n",
    "PHLD_cleaned.to_csv('PHLD_cleaned.csv', index=False)"
   ]
  },
  {
   "cell_type": "code",
   "execution_count": 9,
   "id": "c809aa44",
   "metadata": {
    "scrolled": false
   },
   "outputs": [
    {
     "name": "stdout",
     "output_type": "stream",
     "text": [
      "HTML file saved as interactive_strain_pie.html\n"
     ]
    },
    {
     "data": {
      "image/png": "[encoded data removed]",
      "text/plain": [
       "<Figure size 800x800 with 1 Axes>"
      ]
     },
     "metadata": {},
     "output_type": "display_data"
    }
   ],
   "source": [
    "# Data for the pie chart\n",
    "labels = ['A (2009 H1N1)', 'A (H3)', 'A (Subtyping not Performed)', 'B', 'BVic', 'BYam', 'H3N2v']\n",
    "sizes = [PHLD[label].sum() for label in labels]\n",
    "\n",
    "# Create a pie chart\n",
    "plt.figure(figsize=(8, 8))\n",
    "plt.pie(sizes, labels=labels, autopct='%1.1f%%', startangle=140)\n",
    "plt.title('Distribution of Influenza Virus Types')\n",
    "plt.axis('equal')  # Equal aspect ratio ensures that pie is drawn as a circle.\n",
    "\n",
    "# Save the plot to an HTML file\n",
    "html_file = \"interactive_strain_pie.html\"\n",
    "mpld3.save_html(plt.gcf(), html_file)\n",
    "print(f\"HTML file saved as {html_file}\")\n",
    "\n",
    "# Show the plot\n",
    "plt.show()"
   ]
  },
  {
   "cell_type": "code",
   "execution_count": 10,
   "id": "19290958",
   "metadata": {},
   "outputs": [
    {
     "name": "stdout",
     "output_type": "stream",
     "text": [
      "HTML file for pie chart saved as interactive_strain_pie.html\n"
     ]
    },
    {
     "data": {
      "image/png": "[encoded data removed]",
      "text/plain": [
       "<Figure size 800x800 with 1 Axes>"
      ]
     },
     "metadata": {},
     "output_type": "display_data"
    },
    {
     "name": "stdout",
     "output_type": "stream",
     "text": [
      "HTML file for stacked bar chart saved as interactive_region_bar.html\n"
     ]
    },
    {
     "data": {
      "image/png": "[encoded data removed]",
      "text/plain": [
       "<Figure size 1000x600 with 1 Axes>"
      ]
     },
     "metadata": {},
     "output_type": "display_data"
    }
   ],
   "source": [
    "# Data for the pie chart\n",
    "labels = ['A (2009 H1N1)', 'A (H3)', 'A (Subtyping not Performed)', 'B', 'BVic', 'BYam', 'H3N2v']\n",
    "sizes = [PHLD[label].sum() for label in labels]\n",
    "\n",
    "# Create a pie chart\n",
    "plt.figure(figsize=(8, 8))\n",
    "plt.pie(sizes, labels=labels, autopct='%1.1f%%', startangle=140)\n",
    "plt.title('Distribution of Influenza Virus Types')\n",
    "plt.axis('equal')  # Equal aspect ratio ensures that pie is drawn as a circle.\n",
    "\n",
    "# Save the pie chart to an HTML file\n",
    "pie_html_file = \"interactive_strain_pie.html\"\n",
    "mpld3.save_html(plt.gcf(), pie_html_file)\n",
    "print(f\"HTML file for pie chart saved as {pie_html_file}\")\n",
    "\n",
    "# Show the pie chart\n",
    "plt.show()\n",
    "\n",
    "# Data for the stacked bar chart\n",
    "regions = PHLD['REGION']\n",
    "virus_types = ['A (2009 H1N1)', 'A (H3)', 'A (Subtyping not Performed)', 'B', 'BVic', 'BYam', 'H3N2v']\n",
    "data = PHLD[virus_types]\n",
    "\n",
    "# Create a stacked bar chart\n",
    "plt.figure(figsize=(10, 6))\n",
    "x = np.arange(len(regions))\n",
    "bottom = np.zeros(len(regions))\n",
    "for virus_type in virus_types:\n",
    "    plt.bar(x, data[virus_type], bottom=bottom, label=virus_type)\n",
    "    bottom += np.array(data[virus_type])\n",
    "\n",
    "plt.xlabel('Region')\n",
    "plt.ylabel('Number of Cases')\n",
    "plt.title('Number of Influenza Cases by Virus Type and Region')\n",
    "plt.xticks(x, regions, rotation=45, ha='right')\n",
    "plt.legend()\n",
    "plt.tight_layout()\n",
    "\n",
    "# Save the stacked bar chart to an HTML file\n",
    "bar_html_file = \"interactive_region_bar.html\"\n",
    "mpld3.save_html(plt.gcf(), bar_html_file)\n",
    "print(f\"HTML file for stacked bar chart saved as {bar_html_file}\")\n",
    "\n",
    "# Show the stacked bar chart\n",
    "plt.show()"
   ]
  },
  {
   "cell_type": "code",
   "execution_count": 13,
   "id": "57f7be31",
   "metadata": {},
   "outputs": [
    {
     "data": {
      "application/vnd.jupyter.widget-view+json": {
       "model_id": "03c04d651f4b4ec988c962d8ab39d7bc",
       "version_major": 2,
       "version_minor": 0
      },
      "text/plain": [
       "interactive(children=(Dropdown(description='State:', options=('Alabama', 'Alaska', 'Arizona', 'Arkansas', 'Cal…"
      ]
     },
     "metadata": {},
     "output_type": "display_data"
    },
    {
     "data": {
      "image/png": "[encoded data removed]",
      "text/plain": [
       "<Figure size 1000x600 with 1 Axes>"
      ]
     },
     "metadata": {},
     "output_type": "display_data"
    }
   ],
   "source": [
    "# Load the data from the CSV files\n",
    "ILI = pd.read_csv(\"National By State/ILINet.csv\")\n",
    "CLD = pd.read_csv(\"National By State/WHO_NREVSS_Clinical_Labs.csv\")\n",
    "PHLD = pd.read_csv(\"National By State/WHO_NREVSS_Public_Health_Labs.csv\")\n",
    "\n",
    "# Convert relevant columns to numeric\n",
    "PHLD[['TOTAL SPECIMENS', 'A (2009 H1N1)', 'A (H3)', 'A (Subtyping not Performed)', 'B', 'BVic', 'BYam', 'H3N2v']] = PHLD[['TOTAL SPECIMENS', 'A (2009 H1N1)', 'A (H3)', 'A (Subtyping not Performed)', 'B', 'BVic', 'BYam', 'H3N2v']].apply(pd.to_numeric, errors='coerce')\n",
    "\n",
    "# Drop rows with missing or NaN values\n",
    "PHLD_cleaned = PHLD.dropna()\n",
    "\n",
    "# Define the data\n",
    "virus_types = ['A (2009 H1N1)', 'A (H3)', 'A (Subtyping not Performed)', 'B', 'BVic', 'BYam', 'H3N2v']\n",
    "data = PHLD_cleaned[virus_types]\n",
    "\n",
    "# Calculate the national average distribution of virus types\n",
    "national_avg_sizes = data.sum() / len(PHLD_cleaned['REGION'].unique())\n",
    "\n",
    "# Define the labels for the pie chart\n",
    "labels = virus_types\n",
    "\n",
    "# Function to update the pie chart based on the selected state\n",
    "def update_pie_chart(state):\n",
    "    state_data = PHLD_cleaned[PHLD_cleaned['REGION'] == state]\n",
    "    state_sizes = [state_data[label].sum() for label in labels]\n",
    "\n",
    "    # Create a pie chart for the selected state\n",
    "    plt.figure(figsize=(16, 8))\n",
    "    plt.subplot(1, 2, 1)\n",
    "    plt.pie(state_sizes, labels=labels, autopct='%1.1f%%', startangle=140)\n",
    "    plt.title(f'Distribution of Influenza Virus Types in {state}')\n",
    "    plt.axis('equal')  # Equal aspect ratio ensures that pie is drawn as a circle.\n",
    "\n",
    "    # Create a pie chart for the national average\n",
    "    plt.subplot(1, 2, 2)\n",
    "    plt.pie(national_avg_sizes, labels=labels, autopct='%1.1f%%', startangle=140)\n",
    "    plt.title('National Average Distribution of Influenza Virus Types')\n",
    "    plt.axis('equal')  # Equal aspect ratio ensures that pie is drawn as a circle.\n",
    "\n",
    "    plt.show()\n",
    "\n",
    "# Create dropdown widget for selecting states\n",
    "state_dropdown = widgets.Dropdown(options=PHLD_cleaned['REGION'].unique(), description='State:')\n",
    "\n",
    "# Display the dropdown widget and the interactive pie chart\n",
    "interact(update_pie_chart, state=state_dropdown)\n",
    "\n",
    "# Sort the data by the total number of cases for each state\n",
    "sorted_data = data.sum(axis=1).sort_values(ascending=False)\n",
    "\n",
    "# Select only the top 5 states\n",
    "top_5_states = sorted_data.head(5).index\n",
    "\n",
    "# Filter the data to include only the top 5 states\n",
    "data_top_5 = data.loc[top_5_states]\n",
    "\n",
    "# Define the data\n",
    "regions = PHLD.loc[top_5_states, 'REGION']\n",
    "\n",
    "# Create a stacked bar chart\n",
    "plt.figure(figsize=(10, 6))\n",
    "\n",
    "# Define the x locations for the groups\n",
    "x = np.arange(len(regions))\n",
    "\n",
    "# Plot each virus type as a separate bar for the top 5 states\n",
    "bottom = np.zeros(len(regions))\n",
    "for virus_type in virus_types:\n",
    "    plt.bar(x, data_top_5[virus_type], bottom=bottom, label=virus_type)\n",
    "    bottom += np.array(data_top_5[virus_type])\n",
    "\n",
    "plt.xlabel('Region')\n",
    "plt.ylabel('Number of Cases')\n",
    "plt.title('Number of Influenza Cases by Virus Type and Region (Top 5 States)')\n",
    "plt.xticks(x, regions, rotation=45, ha='right')\n",
    "plt.legend()\n",
    "plt.tight_layout()\n",
    "plt.show()\n",
    "\n"
   ]
  },
  {
   "cell_type": "code",
   "execution_count": null,
   "id": "060e70d3",
   "metadata": {},
   "outputs": [],
   "source": []
  }
 ],
 "metadata": {
  "kernelspec": {
   "display_name": "Python 3 (ipykernel)",
   "language": "python",
   "name": "python3"
  },
  "language_info": {
   "codemirror_mode": {
    "name": "ipython",
    "version": 3
   },
   "file_extension": ".py",
   "mimetype": "text/x-python",
   "name": "python",
   "nbconvert_exporter": "python",
   "pygments_lexer": "ipython3",
   "version": "3.11.5"
  }
 },
 "nbformat": 4,
 "nbformat_minor": 5
}
